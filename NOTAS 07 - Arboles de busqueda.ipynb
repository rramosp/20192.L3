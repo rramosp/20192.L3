{
 "cells": [
  {
   "cell_type": "markdown",
   "metadata": {},
   "source": [
    "## Objetivo del módulo\n",
    "\n",
    "Conocer el uso de la estructura de árboles binarios para la ordenación de datos\n",
    "\n",
    "## Preguntas\n",
    "\n",
    "- ¿Cómo se puede mantener ordenado un árbol binario?\n",
    "- ¿Qué ventajas tendría mantenerlo ordenado?\n",
    "- ¿Qué resultados dan los distintos tipos de recorridos sobre el árbol?\n",
    "- ¿Cómo podemos mantener un árbol binario balanceado?\n",
    "\n",
    "### Observa la siguiente implementación\n",
    "\n",
    "- usamos explícitamente estructuras para almacenar un hijoz izquierdo y uno derecho\n",
    "- tenemos un algoritmo para insertar elementos garantizando un cierto orden\n",
    "- los recorridos sobre dicho orden nos producen listas ordenadas\n",
    "- la complejidad computacional de cada operación"
   ]
  },
  {
   "cell_type": "code",
   "execution_count": 1,
   "metadata": {},
   "outputs": [],
   "source": [
    "import numpy as np\n",
    "\n",
    "class BTNode:\n",
    "    \n",
    "    def __init__(self, value, left=None, right=None):\n",
    "        self.value = value\n",
    "        self.left  = None\n",
    "        self.right = None\n",
    "        if left is not None:\n",
    "            self.add_left(left)\n",
    "        if right is not None:\n",
    "            self.add_right(right)\n",
    "    \n",
    "    def add_left(self, value):\n",
    "        assert self.left is None, \"node already has left child\"\n",
    "        self.left  = self.__class__(value) if not isinstance(value,self.__class__) else value\n",
    "        return self\n",
    "        \n",
    "    def add_right(self, value):\n",
    "        assert self.right is None, \"node already has right child\"\n",
    "        self.right  = self.__class__(value) if not isinstance(value,self.__class__) else value\n",
    "        return self\n",
    "    \n",
    "    def swap_children(self):\n",
    "        tmp = self.left\n",
    "        self.left = self.right\n",
    "        self.right = self.left\n",
    "        return self\n",
    "    \n",
    "    def insert_ordered(self, new_value):\n",
    "        if new_value < self.value:\n",
    "            if self.left is None:\n",
    "                self.add_left(new_value)\n",
    "            else:\n",
    "                self.left.insert_ordered(new_value)\n",
    "        else:\n",
    "            if self.right is None:\n",
    "                self.add_right(new_value)\n",
    "            else:\n",
    "                self.right.insert_ordered(new_value)\n",
    "        return self\n",
    "    \n",
    "    def ird(self):\n",
    "        if self.value==None:\n",
    "            return []\n",
    "        s1 = self.left.ird() if self.left is not None else []\n",
    "        s2 = self.right.ird() if self.right is not None else []\n",
    "        return s1+[self.value]+s2    \n",
    "    \n",
    "    def to_indented_string(self, level, prefix=\"\"):\n",
    "        s = (\" \"*2*level + prefix + str(self.value) + \"\\n\") if self.value is not None else \"\"\n",
    "        s += self.left.to_indented_string(level+1, prefix=\"L: \") if self.left is not None else \"\"\n",
    "        s += self.right.to_indented_string(level+1, prefix=\"R: \") if self.right is not None else \"\"\n",
    "        return s       \n",
    "\n",
    "    def __repr__(self):\n",
    "        return self.to_indented_string(0)\n",
    " \n",
    "    @classmethod\n",
    "    def from_list(cls, a_list):\n",
    "        r = cls(a_list[0])\n",
    "        for i in a_list[1:]:\n",
    "            r.insert_ordered(i)\n",
    "        return r\n",
    "    \n",
    "    @classmethod\n",
    "    def sort_list(cls, a_list):\n",
    "        r = cls.from_list(a_list)\n",
    "        return np.r_[r.ird()]"
   ]
  },
  {
   "cell_type": "markdown",
   "metadata": {},
   "source": [
    "### podemos crear un árbol con un orden arbitrario"
   ]
  },
  {
   "cell_type": "code",
   "execution_count": 2,
   "metadata": {},
   "outputs": [
    {
     "data": {
      "text/plain": [
       "10\n",
       "  L: 12\n",
       "  R: 20\n",
       "    L: 15\n",
       "      L: 91\n",
       "    R: 21"
      ]
     },
     "execution_count": 2,
     "metadata": {},
     "output_type": "execute_result"
    }
   ],
   "source": [
    "k=BTNode(10)\\\n",
    "    .add_right(BTNode(20)\\\n",
    "           .add_left(BTNode(15)\\\n",
    "                .add_left(91))\\\n",
    "           .add_right(21))\\\n",
    "    .add_left(12)\n",
    "k"
   ]
  },
  {
   "cell_type": "code",
   "execution_count": 3,
   "metadata": {},
   "outputs": [
    {
     "data": {
      "text/plain": [
       "[12, 10, 91, 15, 20, 21]"
      ]
     },
     "execution_count": 3,
     "metadata": {},
     "output_type": "execute_result"
    }
   ],
   "source": [
    "k.ird()"
   ]
  },
  {
   "cell_type": "markdown",
   "metadata": {},
   "source": [
    "### podemos crear un árbol manteniendo la siguiente propiedad:\n",
    "\n",
    "- para cualquier nodo, su hijo izquierdo es menor y su hizo derecho es mayor"
   ]
  },
  {
   "cell_type": "code",
   "execution_count": 4,
   "metadata": {},
   "outputs": [
    {
     "data": {
      "text/plain": [
       "10\n",
       "  L: 2\n",
       "    L: 1\n",
       "    R: 4\n",
       "  R: 12"
      ]
     },
     "execution_count": 4,
     "metadata": {},
     "output_type": "execute_result"
    }
   ],
   "source": [
    "k = BTNode(10).insert_ordered(2).insert_ordered(12).insert_ordered(1).insert_ordered(4)\n",
    "k"
   ]
  },
  {
   "cell_type": "code",
   "execution_count": 5,
   "metadata": {},
   "outputs": [
    {
     "data": {
      "text/plain": [
       "10\n",
       "  L: 2\n",
       "    L: 1\n",
       "    R: 4\n",
       "  R: 12"
      ]
     },
     "execution_count": 5,
     "metadata": {},
     "output_type": "execute_result"
    }
   ],
   "source": [
    "k = BTNode.from_list([10,2,12,1,4])\n",
    "k"
   ]
  },
  {
   "cell_type": "markdown",
   "metadata": {},
   "source": [
    "de modo que al recorrerlo nos produce una lista ordenada"
   ]
  },
  {
   "cell_type": "code",
   "execution_count": 6,
   "metadata": {},
   "outputs": [
    {
     "data": {
      "text/plain": [
       "[1, 2, 4, 10, 12]"
      ]
     },
     "execution_count": 6,
     "metadata": {},
     "output_type": "execute_result"
    }
   ],
   "source": [
    "k.ird()"
   ]
  },
  {
   "cell_type": "code",
   "execution_count": 7,
   "metadata": {},
   "outputs": [
    {
     "data": {
      "text/plain": [
       "array([-20,   1,  10,  12,  43])"
      ]
     },
     "execution_count": 7,
     "metadata": {},
     "output_type": "execute_result"
    }
   ],
   "source": [
    "BTNode.sort_list([10,43,12,1,-20])"
   ]
  },
  {
   "cell_type": "code",
   "execution_count": 8,
   "metadata": {},
   "outputs": [
    {
     "data": {
      "text/plain": [
       "array([54,  5, 57, 13, 34, 65, 49, 83, 21, 20])"
      ]
     },
     "execution_count": 8,
     "metadata": {},
     "output_type": "execute_result"
    }
   ],
   "source": [
    "np.random.permutation(100)[:10]"
   ]
  },
  {
   "cell_type": "code",
   "execution_count": 9,
   "metadata": {},
   "outputs": [
    {
     "name": "stdout",
     "output_type": "stream",
     "text": [
      "[48 87 62  9 18 43 75 66 61 28] --> [ 9 18 28 43 48 61 62 66 75 87]\n",
      "[ 0 99 96 93 42 57 71 44 94 18] --> [ 0 18 42 44 57 71 93 94 96 99]\n",
      "[70 94 88 65 23 37 99 86 14 19] --> [14 19 23 37 65 70 86 88 94 99]\n",
      "[12 59 62 17 38 69 31 27  7 40] --> [ 7 12 17 27 31 38 40 59 62 69]\n",
      "[49 94 21 30 84 23 35 10 34 63] --> [10 21 23 30 34 35 49 63 84 94]\n",
      "[64  2 45 54  8 43 60 99 21 84] --> [ 2  8 21 43 45 54 60 64 84 99]\n",
      "[ 1 45 95 54 47 70 24 20 56 31] --> [ 1 20 24 31 45 47 54 56 70 95]\n",
      "[72 31 48 10 54 91 30  3 51 23] --> [ 3 10 23 30 31 48 51 54 72 91]\n",
      "[19 28 39 50 23 89 16 21 51  7] --> [ 7 16 19 21 23 28 39 50 51 89]\n",
      "[84 63 15 65 48 32  3 21 91 29] --> [ 3 15 21 29 32 48 63 65 84 91]\n"
     ]
    }
   ],
   "source": [
    "for _ in range(10):\n",
    "    l = np.random.permutation(100)[:10]\n",
    "    print(l,\"-->\", end=' ')\n",
    "    print(BTNode.sort_list(l))"
   ]
  },
  {
   "cell_type": "markdown",
   "metadata": {},
   "source": [
    "observa que, en la lección anterior, **ordenábamos in situ** y ahora creamos una estructura nueva.\n",
    "\n",
    "finalmente, medimos rendimiento"
   ]
  },
  {
   "cell_type": "code",
   "execution_count": 12,
   "metadata": {},
   "outputs": [
    {
     "name": "stdout",
     "output_type": "stream",
     "text": [
      "running experiments\n",
      ". . . . . . . . . "
     ]
    }
   ],
   "source": [
    "def experiment_insert_ordered(n):\n",
    "    k = np.random.permutation(100*n)[:n]\n",
    "    tree = BTNode(k[0])\n",
    "    for i in k:\n",
    "        tree.insert_ordered(i)\n",
    "    return tree\n",
    "\n",
    "def experiment_sort(n):\n",
    "    k = np.random.permutation(100*n)[:n]\n",
    "    BTNode.sort_list(k)\n",
    "\n",
    "r_times_insert = []\n",
    "r_times_ird = []\n",
    "r_times_sort = []\n",
    "n_list = np.arange(10,100,10)*100\n",
    "\n",
    "print(\"running experiments\")\n",
    "for n in n_list:\n",
    "    print (\".\", end=\" \")\n",
    "    t = %timeit -r 3 -n 3 -o -q experiment_insert_ordered(n)\n",
    "    r_times_insert.append(t.best)\n",
    "\n",
    "    k = experiment_insert_ordered(n)\n",
    "    t = %timeit -r 3 -n 3 -o -q k.ird()\n",
    "    r_times_ird.append(t.best)\n",
    "\n",
    "    t = %timeit -r 3 -n 3 -o -q experiment_sort(n)\n",
    "    r_times_sort.append(t.best)"
   ]
  },
  {
   "cell_type": "code",
   "execution_count": 13,
   "metadata": {
    "scrolled": true
   },
   "outputs": [
    {
     "data": {
      "text/plain": [
       "<matplotlib.legend.Legend at 0x7fbbde66e198>"
      ]
     },
     "execution_count": 13,
     "metadata": {},
     "output_type": "execute_result"
    },
    {
     "data": {
      "image/png": "[encoded data removed]",
      "text/plain": [
       "<Figure size 432x288 with 1 Axes>"
      ]
     },
     "metadata": {
      "needs_background": "light"
     },
     "output_type": "display_data"
    }
   ],
   "source": [
    "import matplotlib.pyplot as plt\n",
    "%matplotlib inline\n",
    "plt.plot(r_times_insert, label=\"insert\")\n",
    "plt.plot(r_times_ird, label=\"ird\")\n",
    "plt.plot(r_times_sort, label=\"sort\")\n",
    "plt.ylabel(\"time\")\n",
    "plt.xlabel(\"number of elements\")\n",
    "plt.grid()\n",
    "plt.legend()"
   ]
  },
  {
   "cell_type": "code",
   "execution_count": null,
   "metadata": {},
   "outputs": [],
   "source": []
  }
 ],
 "metadata": {
  "kernelspec": {
   "display_name": "p37",
   "language": "python",
   "name": "python3"
  },
  "language_info": {
   "codemirror_mode": {
    "name": "ipython",
    "version": 3
   },
   "file_extension": ".py",
   "mimetype": "text/x-python",
   "name": "python",
   "nbconvert_exporter": "python",
   "pygments_lexer": "ipython3",
   "version": "3.7.3"
  }
 },
 "nbformat": 4,
 "nbformat_minor": 2
}
