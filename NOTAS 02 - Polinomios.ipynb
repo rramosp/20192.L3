{
 "cells": [
  {
   "cell_type": "markdown",
   "metadata": {},
   "source": [
    "## Objetivo del módulo\n",
    "Conocer el TAD polinomio y entender las implicaciones de las decisiones para su implementación.\n",
    "\n",
    "## Preguntas básicas\n",
    "1. ¿Cómo se define un TAD polinomio?\n",
    "2. ¿Qué decisiones hay que tomar para su implementación?\n",
    "3. ¿Cómo se combinan polinomios (sumas, multiplicaciones) según la representación escogida?\n",
    "4. ¿Qué compromisos de uso de memoria y rendimiento de CPU se adquieren?\n",
    "\n",
    "## Introducción\n",
    "Un polinomio viene definido por una sumatoria de términos y exponentes de la siguiente manera:\n",
    "\n",
    "$$P = \\sum_{i=0}^{n-1} c_i x^{e_i}$$\n",
    "\n",
    "Y el grado del mismo es el mayor $e_i$ tal que $c_i\\ne 0$\n",
    "\n",
    "Por ejemplo, el polinomio:\n",
    "\n",
    "$$4x^3 + 2x^5 + x^2$$\n",
    "\n",
    "tiene grado 5 y tiene coeficientes y exponentes:\n",
    "\n",
    "- $C=[4,2,1]$\n",
    "- $E=[3,5,2]$\n",
    "\n",
    "observa que, a priori, no hacemos ninguna suposición sobre si los exponentes han de estar ordenados o han de ser únicos (sin repetidos).\n",
    "\n",
    "\n",
    "**TAD** $Polynom$\n",
    "\n",
    "$\\forall P,Q,R \\in Polynom;\\;\\; c,d \\in \\mathbb{R};\\;\\; e,f\\in\\mathbb{N}$\n",
    "\n",
    "**signatures**:\n",
    "$$\n",
    "\\begin{align}\n",
    "new() &\\rightarrow Polynom\\\\\n",
    "P.add\\_term(c,e) &\\rightarrow Polynom\\\\\n",
    "P.is\\_empty() &\\rightarrow Bool\\\\\n",
    "P.is\\_zero() &\\rightarrow Bool\\\\\n",
    "P.sum(Q)  &\\rightarrow Polynom\\;\\;\\text{suma dos polinomios}\\\\\n",
    "P.smult(c,e) &\\rightarrow Polynom \\;\\;\\text{multiplica un polinomio por un término}\\\\\n",
    "P.mult(Q) &\\rightarrow Polynom\\;\\;\\text{multiplica dos polinomios}\\\\\n",
    "P.coef(f) &\\rightarrow \\mathbb{R}\\;\\; \\text{suma de coeficientes de términos con exponente }f\\\\\n",
    "P.grade() &\\rightarrow \\mathbb{N}\\;\\; \\text{exponente más alto}\n",
    "\\end{align}\n",
    "$$    \n",
    "\n",
    "\n",
    "**axioms**:\n",
    "\n",
    "- **axiom 1**: $new().is\\_empty() ::= True $\n",
    "- **axiom 2**: $P.is\\_empty() ::= |C|=|E|=0$\n",
    "- **axiom 3**: $P.is\\_zero() ::= \\forall i |  \\sum_{j|e_i=e_j} c_j=0$\n",
    "\n",
    "\n",
    "- **axiom 4**: $new().sum(Q) ::= Q$\n",
    "- **axiom 5**: $P.add\\_term(c,e).sum(Q) ::= P.sum(Q).add\\_term(c,e)$\n",
    "\n",
    "\n",
    "\n",
    "**práctica**:\n",
    "\n",
    "usa los axiomas anteriores para sumar los siguientes dos polinomios:\n",
    "\n",
    "$$P=3x^5 + 4x^2 \\;\\;\\;\\;\\;\\; Q=2x + 7x^2$$\n",
    "\n",
    "- $3x^5 + 4x^2$ ::= $new().add\\_term(4,2).add\\_term(3,5)$\n",
    "- usando el axioma de suma varias veces: \n",
    "\n",
    "   - $P.sum(Q) ::=new().add\\_term(4,2).add\\_term(3,5).sum(Q)$\n",
    "\n",
    "   - $::= new().add\\_term(4,2).sum(Q).add\\_term(3,5)$\n",
    "   - $::= new().sum(Q).add\\_term(4,2).add\\_term(3,5)$\n",
    "   - $::= new().add\\_term(4,2).sum(Q).add\\_term(3,5)$\n",
    "   - $::= sum(Q).add\\_term(4,2).add\\_term(3,5)$\n",
    "   \n",
    "**observación**:\n",
    "\n",
    "Fïjate que el axioma de suma lo podríamos haber definido también de la siguiente forma:\n",
    "\n",
    "- **axiom 6**: $P.sum(Q) ::= R | C_R = C_P + C_Q;\\;E_R = E_P + E_Q\\;\\;\\;$ siendo $+$ la operación de concatenación de listas\n",
    "\n",
    "esta última definición es **más operativa** ya que implica dos estructuras de almacenamiento $C$ y $E$ para cada polinomio, y sugiere una implementación concreta. En cambio la definición anterior, en los axiomas 4 y 5, **es más abstracta** e independiente de implementación. \n",
    "\n",
    "**implementación**:\n",
    "\n",
    "La siguiente clase implementa estas definiciones. Observa el **constructor**, usamos `list` para **copiar** la lista pasada como argumento (si no, sería una referencia y se modificaría el original cuando hagamos operaciones)."
   ]
  },
  {
   "cell_type": "code",
   "execution_count": 29,
   "metadata": {},
   "outputs": [],
   "source": [
    "from IPython.display import Math\n",
    "import numpy as np\n",
    "import numbers\n",
    "\n",
    "class Pol:\n",
    "    \n",
    "    def __init__(self, elements=[]):\n",
    "        self.elements = list(elements)\n",
    "        \n",
    "    def isEmpty(self):\n",
    "        return len(self.elements==0)\n",
    "        \n",
    "    def add_term(self, coef, exp):\n",
    "        assert (isinstance(coef, numbers.Real) or isinstance(coef,numbers.Integral)) and isinstance(exp, numbers.Integral), \\\n",
    "                \"coef/exp must be float/int\"\n",
    "        self.elements.append((coef,exp))\n",
    "        return self\n",
    "        \n",
    "    def sum(self, q):\n",
    "        r = self.__class__()\n",
    "        for c,e in self.elements+q.elements:\n",
    "            r.add_term(c,e)\n",
    "        return r\n",
    "    \n",
    "    def show(self):\n",
    "        s = \"+\".join([\"%s^{%s}\"%(str(c) if e==0 else str(c)+\"x\" if c!=1 else \"x\", str(e) if e not in [0,1] else \"\") for c,e in self.elements if c!=0])\n",
    "        s = s.replace(\"+-\", \"-\")\n",
    "        return Math(s)"
   ]
  },
  {
   "cell_type": "code",
   "execution_count": 30,
   "metadata": {},
   "outputs": [
    {
     "name": "stdout",
     "output_type": "stream",
     "text": [
      "[(3, 5), (4, 2), (3, 0), (5, 10)]\n"
     ]
    },
    {
     "data": {
      "text/latex": [
       "$\\displaystyle 3x^{5}+4x^{2}+3^{}+5x^{10}$"
      ],
      "text/plain": [
       "<IPython.core.display.Math object>"
      ]
     },
     "execution_count": 30,
     "metadata": {},
     "output_type": "execute_result"
    }
   ],
   "source": [
    "p = Pol().add_term(3,5).add_term(4,2).add_term(3,0).add_term(5,10)\n",
    "print(p.elements)\n",
    "p.show()"
   ]
  },
  {
   "cell_type": "code",
   "execution_count": 31,
   "metadata": {},
   "outputs": [
    {
     "name": "stdout",
     "output_type": "stream",
     "text": [
      "[(2, 1), (7, 2)]\n"
     ]
    },
    {
     "data": {
      "text/latex": [
       "$\\displaystyle 2x^{}+7x^{2}$"
      ],
      "text/plain": [
       "<IPython.core.display.Math object>"
      ]
     },
     "execution_count": 31,
     "metadata": {},
     "output_type": "execute_result"
    }
   ],
   "source": [
    "q = Pol().add_term(2,1).add_term(7,2)\n",
    "print(q.elements)\n",
    "q.show()"
   ]
  },
  {
   "cell_type": "code",
   "execution_count": 32,
   "metadata": {},
   "outputs": [
    {
     "data": {
      "text/latex": [
       "$\\displaystyle 3x^{5}+4x^{2}+3^{}+5x^{10}+2x^{}+7x^{2}$"
      ],
      "text/plain": [
       "<IPython.core.display.Math object>"
      ]
     },
     "execution_count": 32,
     "metadata": {},
     "output_type": "execute_result"
    }
   ],
   "source": [
    "p.sum(q).show()"
   ]
  },
  {
   "cell_type": "markdown",
   "metadata": {},
   "source": [
    "seguimos definiendo axiomas\n",
    "\n",
    "- **axiom 7**: $new().smult(d, f) ::= new()$\n",
    "- **axiom 8**: $P.add\\_term(c,e).smult(d,f) ::= P.smult(d,f).add\\_term(c*d, e+f)$\n",
    "\n",
    "**práctica**:\n",
    "\n",
    "usa los axiomas anteriores para multiplicar \n",
    "\n",
    "$$P=3x^5 + 4x^2 \\;\\;\\;\\;\\;\\text{con el término}\\;\\;9x^3$$\n",
    "\n",
    "   - $P.smult(9,3) ::=new().add\\_term(4,2).add\\_term(3,5).smult(9,3)$\n",
    "   - $::=new().add\\_term(4,2).smult(9,3).add\\_term(27,8)$\n",
    "   - $::=new().smult(9,3).add\\_term(36,5).add\\_term(27,8)$\n",
    "   - $::=new().add\\_term(36,5).add\\_term(27,8)$\n",
    "\n",
    "o sea $27x^8 + 36x^5$\n",
    "\n",
    "y pensamos una definición más operativa\n",
    "\n",
    "- **axiom 9**: $P.smult(d,f)::=R|C_R = [c*d, \\;\\;\\forall c\\in C_P], E_R = [e+f,  \\;\\;\\forall e\\in E_P]$\n",
    "\n",
    "y ampliamos nuestra definición de polinomio (observa que usamos **herencia de clases**). Fíjate que la sintaxis de Python está diseñada para que se parezca lo más posible a la notación matemática anterior. Observa el uso de `clone` para evitar modificar el propio objeto."
   ]
  },
  {
   "cell_type": "code",
   "execution_count": 33,
   "metadata": {},
   "outputs": [],
   "source": [
    "import numbers\n",
    "class Pol2(Pol):\n",
    "    \n",
    "    def clone(self):\n",
    "        return Pol2(list(self.elements))\n",
    "    \n",
    "    def smult(self, d,f):\n",
    "        assert (isinstance(d, numbers.Real) or isinstance(d,numbers.Integral)) and isinstance(f, numbers.Integral), \"coef/exp must be float/int\"\n",
    "        r = self.__class__()\n",
    "        r.elements = [(c*d, e+f) for c,e in self.elements]\n",
    "        return r"
   ]
  },
  {
   "cell_type": "code",
   "execution_count": 34,
   "metadata": {},
   "outputs": [
    {
     "data": {
      "text/latex": [
       "$\\displaystyle 3x^{5}+4x^{2}$"
      ],
      "text/plain": [
       "<IPython.core.display.Math object>"
      ]
     },
     "execution_count": 34,
     "metadata": {},
     "output_type": "execute_result"
    }
   ],
   "source": [
    "p = Pol2().add_term(3,5).add_term(4,2)\n",
    "p.clone().show()"
   ]
  },
  {
   "cell_type": "code",
   "execution_count": 35,
   "metadata": {},
   "outputs": [
    {
     "data": {
      "text/latex": [
       "$\\displaystyle 27x^{8}+36x^{5}$"
      ],
      "text/plain": [
       "<IPython.core.display.Math object>"
      ]
     },
     "execution_count": 35,
     "metadata": {},
     "output_type": "execute_result"
    }
   ],
   "source": [
    "p.smult(9,3).show()"
   ]
  },
  {
   "cell_type": "markdown",
   "metadata": {},
   "source": [
    "más axiomas\n",
    "\n",
    "- **axiom 10**: $new().mult(Q) ::= new()$\n",
    "- **axiom 11**: $P.add\\_term(c,e).mult(Q) ::= P.mult(Q).sum(Q.smult(c,e))$\n",
    "\n",
    "\n",
    "**práctica**:\n",
    "\n",
    "multipliquemos:\n",
    "\n",
    "$$P=3x^5 + 4x^2 \\;\\;\\;\\;\\;\\; Q=2x + 7x^2$$\n",
    "\n",
    "- $P.mult(Q) ::=new().add\\_term(4,2).add\\_term(3,5).mult(Q)$\n",
    "- $::=new().add\\_term(4,2).mult(Q).sum(Q.smult(3,5))$\n",
    "- $::=new().mult(Q).sum(Q.smult(4,2)).sum(Q.smult(3,5))$\n",
    "- $::=new().sum(Q.smult(4,2)).sum(Q.smult(3,5))$\n",
    "\n",
    "implementemos:\n"
   ]
  },
  {
   "cell_type": "code",
   "execution_count": 36,
   "metadata": {},
   "outputs": [],
   "source": [
    "class Pol3(Pol2):\n",
    "    \n",
    "    def mult(self, q):\n",
    "        terms = [q.smult(c,e) for c,e in self.elements]\n",
    "        r = terms[0]\n",
    "        for t in terms[1:]:\n",
    "            r = r.sum(t)\n",
    "        \n",
    "        return r"
   ]
  },
  {
   "cell_type": "code",
   "execution_count": 37,
   "metadata": {},
   "outputs": [],
   "source": [
    "p = Pol3().add_term(3,5).add_term(4,2)\n",
    "q = Pol3().add_term(2,1).add_term(7,2)"
   ]
  },
  {
   "cell_type": "code",
   "execution_count": 38,
   "metadata": {},
   "outputs": [
    {
     "data": {
      "text/latex": [
       "$\\displaystyle 3x^{5}+4x^{2}$"
      ],
      "text/plain": [
       "<IPython.core.display.Math object>"
      ]
     },
     "execution_count": 38,
     "metadata": {},
     "output_type": "execute_result"
    }
   ],
   "source": [
    "p.show()"
   ]
  },
  {
   "cell_type": "code",
   "execution_count": 39,
   "metadata": {},
   "outputs": [
    {
     "data": {
      "text/latex": [
       "$\\displaystyle 2x^{}+7x^{2}$"
      ],
      "text/plain": [
       "<IPython.core.display.Math object>"
      ]
     },
     "execution_count": 39,
     "metadata": {},
     "output_type": "execute_result"
    }
   ],
   "source": [
    "q.show()"
   ]
  },
  {
   "cell_type": "code",
   "execution_count": 40,
   "metadata": {},
   "outputs": [
    {
     "data": {
      "text/latex": [
       "$\\displaystyle 6x^{6}+21x^{7}+8x^{3}+28x^{4}$"
      ],
      "text/plain": [
       "<IPython.core.display.Math object>"
      ]
     },
     "execution_count": 40,
     "metadata": {},
     "output_type": "execute_result"
    }
   ],
   "source": [
    "p.mult(q).show()"
   ]
  },
  {
   "cell_type": "markdown",
   "metadata": {},
   "source": [
    "más axiomas:\n",
    "\n",
    "- **axiom 12**: $new().grade() ::= error$\n",
    "- **axiom 13**: $new().add\\_term(c,e).grade() ::= e$\n",
    "- **axiom 14**: $P.add\\_term(c,e).add\\_term(d,f).grade() ::= P.add\\_term(c,e).grade()$ if $e>f$ else $P.add\\_term(d,f).grade()$\n",
    "\n",
    "\n",
    "- **axiom 15**: $new().coef(f) ::= 0$\n",
    "- **axiom 16**: $P.add\\_term(c,e).coef(f) ::= c+P.coef(f)$ if $e=f$ else $P.coef(f)$\n",
    "\n",
    "y su implementación. "
   ]
  },
  {
   "cell_type": "code",
   "execution_count": 41,
   "metadata": {},
   "outputs": [],
   "source": [
    "class Pol4(Pol3):\n",
    "    \n",
    "    def grade(self):\n",
    "        return np.max([e for c,e in self.elements])\n",
    "    \n",
    "    def coef(self,f):\n",
    "        return np.sum([c for c,e in self.elements if e==f])"
   ]
  },
  {
   "cell_type": "code",
   "execution_count": 42,
   "metadata": {},
   "outputs": [
    {
     "data": {
      "text/latex": [
       "$\\displaystyle 3x^{5}+4x^{8}+7x^{5}$"
      ],
      "text/plain": [
       "<IPython.core.display.Math object>"
      ]
     },
     "execution_count": 42,
     "metadata": {},
     "output_type": "execute_result"
    }
   ],
   "source": [
    "p = Pol4().add_term(3,5).add_term(4,8).add_term(7,5)\n",
    "p.show()"
   ]
  },
  {
   "cell_type": "code",
   "execution_count": 43,
   "metadata": {},
   "outputs": [
    {
     "data": {
      "text/plain": [
       "8"
      ]
     },
     "execution_count": 43,
     "metadata": {},
     "output_type": "execute_result"
    }
   ],
   "source": [
    "p.grade()"
   ]
  },
  {
   "cell_type": "code",
   "execution_count": 44,
   "metadata": {},
   "outputs": [
    {
     "data": {
      "text/plain": [
       "10"
      ]
     },
     "execution_count": 44,
     "metadata": {},
     "output_type": "execute_result"
    }
   ],
   "source": [
    "p.coef(5)"
   ]
  },
  {
   "cell_type": "code",
   "execution_count": 45,
   "metadata": {},
   "outputs": [
    {
     "data": {
      "text/plain": [
       "4"
      ]
     },
     "execution_count": 45,
     "metadata": {},
     "output_type": "execute_result"
    }
   ],
   "source": [
    "p.coef(8)"
   ]
  },
  {
   "cell_type": "code",
   "execution_count": 46,
   "metadata": {},
   "outputs": [
    {
     "data": {
      "text/plain": [
       "0.0"
      ]
     },
     "execution_count": 46,
     "metadata": {},
     "output_type": "execute_result"
    }
   ],
   "source": [
    "p.coef(2)"
   ]
  },
  {
   "cell_type": "markdown",
   "metadata": {},
   "source": [
    "¿Cómo sería la definición axiomática más operativa de esta implementación?\n",
    "\n",
    "- **axiom 17**: $P.grade() ::== max(E)$\n",
    "- **axiom 18**: $P.coef(f) ::= \\sum_{j|e_j=f} c_j$"
   ]
  },
  {
   "cell_type": "markdown",
   "metadata": {},
   "source": [
    "finalmente añadimos un método para simplificar un polinomio"
   ]
  },
  {
   "cell_type": "code",
   "execution_count": 47,
   "metadata": {},
   "outputs": [],
   "source": [
    "class Pol5(Pol4):\n",
    "    \n",
    "    def simplify(self):\n",
    "        exps  = np.sort(np.unique([e for c,e in self.elements]))\n",
    "        coefs = [self.coef(f) for f in exps]\n",
    "        return Pol5 ([(c,e) for c,e in zip(coefs, exps)])"
   ]
  },
  {
   "cell_type": "code",
   "execution_count": 48,
   "metadata": {},
   "outputs": [
    {
     "data": {
      "text/latex": [
       "$\\displaystyle 3x^{5}+4x^{8}+7x^{5}-2x^{8}+2.87x^{3}$"
      ],
      "text/plain": [
       "<IPython.core.display.Math object>"
      ]
     },
     "execution_count": 48,
     "metadata": {},
     "output_type": "execute_result"
    }
   ],
   "source": [
    "p = Pol5().add_term(3,5).add_term(4,8).add_term(7,5).add_term(-2,8).add_term(2.87, 3)\n",
    "p.show()"
   ]
  },
  {
   "cell_type": "code",
   "execution_count": 49,
   "metadata": {},
   "outputs": [
    {
     "data": {
      "text/latex": [
       "$\\displaystyle 2.87x^{3}+10x^{5}+2x^{8}$"
      ],
      "text/plain": [
       "<IPython.core.display.Math object>"
      ]
     },
     "execution_count": 49,
     "metadata": {},
     "output_type": "execute_result"
    }
   ],
   "source": [
    "p.simplify().show()"
   ]
  },
  {
   "cell_type": "markdown",
   "metadata": {},
   "source": [
    "y verficamos propiedades"
   ]
  },
  {
   "cell_type": "code",
   "execution_count": 50,
   "metadata": {},
   "outputs": [],
   "source": [
    "p = Pol5().add_term(3,5).add_term(4,8).add_term(7,5).add_term(-2,8).add_term(2.87, 3)\n",
    "q = Pol5().add_term(2,1).add_term(7,2)"
   ]
  },
  {
   "cell_type": "code",
   "execution_count": 51,
   "metadata": {},
   "outputs": [
    {
     "data": {
      "text/latex": [
       "$\\displaystyle 3x^{5}+4x^{8}+7x^{5}-2x^{8}+2.87x^{3}$"
      ],
      "text/plain": [
       "<IPython.core.display.Math object>"
      ]
     },
     "execution_count": 51,
     "metadata": {},
     "output_type": "execute_result"
    }
   ],
   "source": [
    "p.show()"
   ]
  },
  {
   "cell_type": "code",
   "execution_count": 52,
   "metadata": {},
   "outputs": [
    {
     "data": {
      "text/latex": [
       "$\\displaystyle 2x^{}+7x^{2}$"
      ],
      "text/plain": [
       "<IPython.core.display.Math object>"
      ]
     },
     "execution_count": 52,
     "metadata": {},
     "output_type": "execute_result"
    }
   ],
   "source": [
    "q.show()"
   ]
  },
  {
   "cell_type": "code",
   "execution_count": 53,
   "metadata": {},
   "outputs": [
    {
     "data": {
      "text/latex": [
       "$\\displaystyle 6x^{6}+21x^{7}+8x^{9}+28x^{10}+14x^{6}+49x^{7}-4x^{9}-14x^{10}+5.74x^{4}+20.09x^{5}$"
      ],
      "text/plain": [
       "<IPython.core.display.Math object>"
      ]
     },
     "execution_count": 53,
     "metadata": {},
     "output_type": "execute_result"
    }
   ],
   "source": [
    "p.mult(q).show()"
   ]
  },
  {
   "cell_type": "code",
   "execution_count": 54,
   "metadata": {},
   "outputs": [
    {
     "data": {
      "text/latex": [
       "$\\displaystyle 5.74x^{4}+20.09x^{5}+20x^{6}+70x^{7}+4x^{9}+14x^{10}$"
      ],
      "text/plain": [
       "<IPython.core.display.Math object>"
      ]
     },
     "execution_count": 54,
     "metadata": {},
     "output_type": "execute_result"
    }
   ],
   "source": [
    "p.mult(q).simplify().show()"
   ]
  },
  {
   "cell_type": "code",
   "execution_count": 55,
   "metadata": {},
   "outputs": [
    {
     "data": {
      "text/latex": [
       "$\\displaystyle 5.74x^{4}+20.09x^{5}+20x^{6}+70x^{7}+4x^{9}+14x^{10}$"
      ],
      "text/plain": [
       "<IPython.core.display.Math object>"
      ]
     },
     "execution_count": 55,
     "metadata": {},
     "output_type": "execute_result"
    }
   ],
   "source": [
    "p.simplify().mult(q).show()"
   ]
  },
  {
   "cell_type": "markdown",
   "metadata": {},
   "source": [
    "## Ejercicios propuestos\n",
    "\n",
    "- Modifica `add_term` para ignorar términos con coeficiente 0. Esto repararía el comportamiento del método `grade`\n",
    "\n",
    "**Polinomios con restricciones**\n",
    "\n",
    "Define axiomas para un polinomio con restricciones en el que sólo hay un término por exponente y los términos deben de estar ordenados de manera descendente por exponente.\n",
    "\n",
    "P.ej. si tenemos el polinomio $4x^8 + 5x^6 – 4x^3 + 2x$ la forma como se representa según nuestra definición de polinomio con restricciones es:\n",
    "\n",
    "- $new().add\\_term(2,1).add\\_term(-4,3).add\\_term(5,6).add\\_term(4,8)$\n",
    "\n",
    "el término con menor exponente será el más interno y el término con mayor exponente será el más externo, es decir, el término con mayor exponente es el correspondiente a $c$ y $e$ de acuerdo a la forma general definida.\n",
    "\n",
    "Con base en esta decisión, las definiciones de los axiomas correspondientes a las funciones grado y suma se facilitan respecto al polinomio sin restricciones.\n",
    "\n",
    "- **axiom**: $new.grade() ::= error$\n",
    "- **axiom**: $new().add\\_term(c,e).grade() ::= e$\n",
    "- **axioms**:\n",
    " \n",
    "\n",
    "     new().sum(Q) ::= Q\n",
    "     \n",
    "     P.sum(new()) ::= P\n",
    "     \n",
    "     P.add_term(c,e).sum(Q.add_term(d,f)) ::=\n",
    "    \n",
    "        P.sum(Q.add_term(d,f)).add_term(c,e) if e>f else:\n",
    "\n",
    "        P.add_term(c,e).sum(Q).add_term(d,f) if e<f else:\n",
    "        \n",
    "        P.sum(Q) if (c+d)==0 else P.sum(Q).add_term(c+d,e)\n",
    "        \n",
    "        \n",
    "**Después de realizar el laboratorio**\n",
    "\n",
    "- implementa la multiplicación para la implementación **v1**\n",
    "- implementa la resta y la división para ambas implementaciones\n",
    "- mide y compara los rendimientos de `add_term` de la implementación **v1** y **v2**\n",
    "- mide y compara los rendimientos de `sum` de la implementación **v1** y **v2**\n",
    "- ¿qué equilibrio hay entre rendimiendo de CPU y de memoria?"
   ]
  },
  {
   "cell_type": "code",
   "execution_count": null,
   "metadata": {},
   "outputs": [],
   "source": []
  }
 ],
 "metadata": {
  "kernelspec": {
   "display_name": "p37",
   "language": "python",
   "name": "python3"
  },
  "language_info": {
   "codemirror_mode": {
    "name": "ipython",
    "version": 3
   },
   "file_extension": ".py",
   "mimetype": "text/x-python",
   "name": "python",
   "nbconvert_exporter": "python",
   "pygments_lexer": "ipython3",
   "version": "3.7.3"
  }
 },
 "nbformat": 4,
 "nbformat_minor": 2
}
