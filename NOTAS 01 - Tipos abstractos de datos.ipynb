{
 "cells": [
  {
   "cell_type": "markdown",
   "metadata": {},
   "source": [
    "## Objetivos del módulo\n",
    "Conocer el concepto de tipos abstractos de datos y aprender a definir, interpretar e implementar estructuras de datos usando esta técnica.\n",
    "\n",
    "## Preguntas básicas\n",
    "1. ¿Qué es una tipo abstracto de datos (TAD)?\n",
    "2. ¿Qué significa 'abstracto'?\n",
    "3. ¿Cómo se define un TAD?\n",
    "4. ¿Cómo se implementa un TAD?\n",
    "5. ¿Cómo se mide el rendimiento de una implementación?\n",
    "\n",
    "\n",
    "## Introducción\n",
    "Uno de los temas de mayor importancia en el desarrollo de software es la definición de estructuras de datos en abstracto, es decir, independiente de su representación. Dicha definición conduce hacia la programación orientada a objetos (POO) y a una de sus principales características: el encapsulamiento.\n",
    "\n",
    "- **TIPO** (_type_): es un conjunto de valores. P.ej. [`True`, `False`], $\\mathbb{N}$, $\\mathbb{Z}$\n",
    "- **TIPO ABSTRACTO DE DATOS (TAD)** ([_abstract data type_](https://www.wikiwand.com/en/Abstract_data_type), _ADT_): es un tipo de datos, **MÁS** una definición de conjunto de operaciones sobre este tipo de datos, **MÁS** un conjunto de axiomas que definen la semántica de las operaciones.\n",
    "- **ESTRUCTURA DE DATOS** (_data structure_): es una realización de un TAD en un lenguaje de programación concreto.\n",
    "\n",
    "es preciso observar que:\n",
    "\n",
    "- Un TAD es una **definición abstracta** en algún _idioma_ matemático o informal.\n",
    "- Un TAD especifica **QUÉ** hace una operación, pero no **CÓMO**.\n",
    "- Los axiomas suelen definir **precondiciones** y **poscondiciones** de las operaciones.\n",
    "- Si la definición de un TAD es **totalmente matemática** podríamos en teoría probar formalmente propiedades y algoritmos (i.e. [verificación formal](https://www.wikiwand.com/en/Formal_verification), [derivación de programas](https://www.wikiwand.com/en/Program_derivation), [reparación de bugs](https://www.wikiwand.com/en/Automatic_bug_fixing), etc.).\n",
    "- Algunos tipos están ya implementados (_built-in_) en la base de Java, Python, Haskell, C, ...\n",
    "- Un TAD suele imlpementarse como una **clase** en distintos lenguajes de programación.\n",
    "\n",
    "referencias:\n",
    "\n",
    "- http://www.cs.fsu.edu/~lacher/lectures/Output/adts/index.html\n",
    "- http://btechsmartclass.com/DS/U1_T1.html\n",
    "- https://ece.uwaterloo.ca/~dwharder/aads/Abstract_data_types/Linear_ordering/Stack/\n",
    "- https://www.geeksforgeeks.org/abstract-data-types/\n"
   ]
  },
  {
   "cell_type": "markdown",
   "metadata": {},
   "source": [
    "## Ejemplo 1. Números naturales\n",
    "\n",
    "**TAD: $NumeroNatural$**\n",
    "\n",
    "\n",
    "\n",
    "$\\forall n,m \\in NumeroNatural$\n",
    "\n",
    "- signatures:\n",
    "$$\n",
    "\\begin{align}\n",
    "cero() &\\rightarrow NumeroNatural\\\\\n",
    "sucesor(n) &\\rightarrow NumeroNatural\\\\\n",
    "esCero(n) &\\rightarrow Bool\\\\\n",
    "suma(n,m) &\\rightarrow NumeroNatural\\\\\n",
    "resta(n,m) &\\rightarrow NumeroNatural\\\\\n",
    "multiplica(n,m) &\\rightarrow NumeroNatural\\\\\n",
    "divide(n,m) &\\rightarrow NumeroNatural\\\\\n",
    "igual(n,m) &\\rightarrow Bool\\\\\n",
    "\\end{align}\n",
    "$$    \n",
    "\n",
    "- axioms:\n",
    "\n",
    "    $esCero(cero()) := $`True`<br/>\n",
    "    $esCero(sucesor(x)) := $`False`\n",
    "   \n",
    "    $suma(cero(), y) := y$<br/>\n",
    "    $sum(sucesor(x),y) := sucesor(suma(x,y))$ \n",
    "   \n",
    "    $resta(x, cero()) ::= x$<br/>\n",
    "    $resta(cero(), y) ::= $ if $ esCero(y)$ then $cero()$ else $error$<br/>\n",
    "    $resta(sucesor(x), sucesor(y)):=resta(x,y)$\n",
    "\n",
    "    $multiplica(x, cero()) ::= cero()$<br/>\n",
    "    $multiplica(x, sucesor(y)) ::= suma(x, multiplica(x, y))$\n",
    "\n",
    "    $divide(cero(), y) ::= cero()$<br/>\n",
    "    $divide(x, cero()) ::= error$<br/>\n",
    "    $divide(x, y) ::=$ if $menor(x, y) $ then $ cero()$ else  $sucesor(divide(resta(x, y), y))$\n",
    "\t\t\n",
    "    $igual(Cero(), x) ::= esCero(x)$<br/>\n",
    "    $igual(sucesor(x), cero()) ::= False$ <br/>\n",
    "    $igual(sucesor(x), sucesor(y)) ::= igual(x, y)$\n",
    "\n"
   ]
  },
  {
   "cell_type": "markdown",
   "metadata": {},
   "source": [
    "**Observa que**:\n",
    "\n",
    "1.\tEn la parte de axiomas se utiliza el símbolo `::=`, el cual se lee _se define como_ y se conoce como la notación **BNF** (Backus Naur Form).\n",
    "\n",
    "1.\tEn la parte correspondiente a las funciones se definen las operaciones que se pueden realizar, su sintaxis y el resultado que se obtiene al efectuar alguna de ellas.\n",
    "\n",
    "1.\tEn la definición de funciones siempre se debe incluir:\n",
    "    - Una función que cree la estructura vacía. En nuestro ejemplo es la función $cero()$ la cual crea la estructura $NumeroNatural$ vacía.  \n",
    "\n",
    "   - Una función que genere o que permita incluir los  elementos o datos objeto que conformarán la estructura a definir. En nuestro ejemplo es la función $sucesor()$\n",
    "\n",
    "1.\tEn la parte de axiomas se describe la forma como trabajan las funciones. Se omiten en esta parte las dos funciones básicas, (creación y generación) definidas anteriormente, ya que su forma de operación está implícita en la definición de la función.\n",
    "\n",
    "\n",
    "La función cero() crea la estructura número natural vacía.\n",
    "sucesor(cero()) generará el primer número natural, el 1.\n",
    "       sucesor(sucesor(cero())) representa el número natural 2 y así sucesivamente.\n",
    "       En general, si sucesor(x) es un número natural i, entonces x representa el número natural i – 1.\n",
    "\n",
    "\n",
    "**Preguntas**\n",
    "\n",
    "Realiza las siguientes operaciones usando las funciones y axiomas definidos\n",
    "\n",
    "- 2+3\n",
    "- 5-2\n",
    "- 4*5\n",
    "- 12/4\n",
    "- 12/5\n"
   ]
  },
  {
   "cell_type": "markdown",
   "metadata": {},
   "source": [
    "## Ejemplo 2: Un diccionario\n",
    "\n",
    "\n",
    "**TAD: $Diccionario$**\n",
    "\n",
    "$\\forall\\; A \\in Diccionario \\;\\;\\; i,j,v \\in AnyType$\n",
    "\n",
    "- signatures:\n",
    "$$\n",
    "\\begin{align}\n",
    "crear() &\\rightarrow Diccionario\\\\\n",
    "A.almacena(v) &\\rightarrow Diccionario\\\\\n",
    "A.esVacio() &\\rightarrow Bool\\\\\n",
    "A.recupera(i) &\\rightarrow AnyType\\\\\n",
    "\\end{align}\n",
    "$$    \n",
    "\n",
    "- axioms:\n",
    "\n",
    "    $crear().esVacio() := $ `True`<br/>\n",
    "    $A.almacena(i,v).esVacio() :=$ `False`<br/>\n",
    "    $crear().recupera(i) := error$ <br/>\n",
    "    $A.almacenar(i,v).recupera(j) := v$ if $i==j$ else $A.recupera(j)$\n",
    "\n",
    "**Observa**:\n",
    "\n",
    "- que siempre tenemos que tener alguna función que nos cree una instancia de un TAD\n",
    "- Python tiene una estructura `dict` con una semántica similar y con las funciones de almacenar y recuperar accesibles indirectamente a través de una sintaxis dedicada.\n"
   ]
  },
  {
   "cell_type": "code",
   "execution_count": 1,
   "metadata": {},
   "outputs": [
    {
     "name": "stdout",
     "output_type": "stream",
     "text": [
      "       uno :: el primer elemento\n",
      "    zapato :: para el pie\n",
      "         3 :: el numero 3\n",
      "       dos :: 2\n"
     ]
    }
   ],
   "source": [
    "A = {\"uno\": \"el primer elemento\", \"zapato\": \"para el pie\", 3: \"el numero 3\", \"dos\": 2 }\n",
    "for k,v in A.items():\n",
    "    print(\"%10s\"%str(k),\"::\", v)"
   ]
  },
  {
   "cell_type": "code",
   "execution_count": 2,
   "metadata": {},
   "outputs": [
    {
     "name": "stdout",
     "output_type": "stream",
     "text": [
      "el primer elemento\n",
      "el numero 3\n",
      "2\n",
      "para el pie\n"
     ]
    }
   ],
   "source": [
    "print(A[\"uno\"])\n",
    "print(A[3])\n",
    "print(A[\"dos\"])\n",
    "print(A[\"zapato\"])"
   ]
  },
  {
   "cell_type": "code",
   "execution_count": 3,
   "metadata": {},
   "outputs": [
    {
     "name": "stdout",
     "output_type": "stream",
     "text": [
      "       uno :: el primer elemento\n",
      "    zapato :: para el pie\n",
      "         3 :: el numero 3\n",
      "       dos :: el numero dos\n",
      "     comer :: verbo transitivo\n"
     ]
    }
   ],
   "source": [
    "A[\"dos\"] = \"el numero dos\"\n",
    "A[\"comer\"] = \"verbo transitivo\"\n",
    "\n",
    "for k,v in A.items():\n",
    "    print(\"%10s\"%str(k),\"::\", v)"
   ]
  },
  {
   "cell_type": "code",
   "execution_count": 4,
   "metadata": {},
   "outputs": [
    {
     "data": {
      "text/plain": [
       "'el numero dos'"
      ]
     },
     "execution_count": 4,
     "metadata": {},
     "output_type": "execute_result"
    }
   ],
   "source": [
    "A[\"dos\"]"
   ]
  },
  {
   "cell_type": "code",
   "execution_count": null,
   "metadata": {},
   "outputs": [],
   "source": []
  },
  {
   "cell_type": "code",
   "execution_count": null,
   "metadata": {},
   "outputs": [],
   "source": []
  },
  {
   "cell_type": "markdown",
   "metadata": {},
   "source": [
    "## Ejemplo 3. Lista Ordenada\n",
    "\n",
    "### Definición informal\n",
    "\n",
    "- **tipo de datos**:\n",
    "    - los elementos de una lista ordenada son de un determinado tipo (p.ej. $\\mathbb{N}$, o `string`) que **admite una función de comparación** (1 **<** 2, \"albert\" **<** \"arbol\").\n",
    " \n",
    "- **funciones**:\n",
    "    - `OrderedList(tipo)`: crea una lista ordenada vacía para elementos de tipo de datos `tipo`. **Precondición**: El tipo de datos ha de admitir comparación.\n",
    "    - `add(item)`: añade un nuevo ítem a la lista preservando el orden de la misma. Si el ítem ya existe en la lista la operación no modifica la lista. **Precondición**: El ítem ha de ser del tipo de la lista.\n",
    "    - `remove(item)`: elimina un ítem de la lista preservando el orden de la misma. **Precondición**: El ítem ha de existir en la lista.\n",
    "    - `contains(item)`: devuelve un booleano indicando si el ítem está en la lista.\n",
    "    - `len()`: devuelve un entero con el número de elementos que tiene la lista.\n",
    "    - `first()`: devuelve el primer item de la lista y establece un **cursor** en el primer item. **Precondición**: la lista no puede estar vacia.\n",
    "    - `next()`: mueve el cursor al siguiente item de la lista y devuelve el item en el que inicialmente estaba. **Precondición**: el cursor no puede estar en el último item.\n",
    "    - `has_more()`: devuelve un booleano `True` si el cursor está en el último item. Si no, devuelve `False`"
   ]
  },
  {
   "cell_type": "markdown",
   "metadata": {},
   "source": [
    "### Definición por axiomas\n",
    "\n",
    "**TAD: $OrderedList$**\n",
    "\n",
    "$\\forall \\mathbb{T} \\in Types, L \\in OrderedList; a \\in \\mathbb{T}; k, n\\in\\mathbb{Z} $\n",
    "\n",
    "\n",
    "- signatures:\n",
    "$$\n",
    "\\begin{align}\n",
    "OrderedList (\\mathbb{T}) &\\rightarrow OrderedList\\\\\n",
    "add(a) &\\rightarrow OrderedList\\\\\n",
    "remove(a) &\\rightarrow OrderedList\\\\\n",
    "contains(a) &\\rightarrow Bool\\\\\n",
    "len() &\\rightarrow \\mathbb{Z}\\\\\n",
    "first() &\\rightarrow \\mathbb{T}\\\\\n",
    "next() &\\rightarrow \\mathbb{T}\\\\\n",
    "has\\_more() &\\rightarrow Bool\\\\\n",
    "\\end{align}\n",
    "$$    \n",
    "\n",
    "- definitions:\n",
    "   - $L^n ::= L.first(); \\;\\;\\; L.next() \\times (n-1) \\;\\;with\\;\\;  n\\in[1,len(L)]$ \n",
    "   - $k ::= n$ if $L^n$ \n",
    "   - $L.has\\_more() ::= k<len(L)$ \n",
    "\n",
    "\n",
    "observa que la definición de $k$ depende de cuantas veces haya llamado el usuario a la función $next$ después de $first$.\n",
    "\n",
    "\n",
    "- preconditions\n",
    "\n",
    "<table>\n",
    "    <tr><th width=200>operación</th><th width=200>precondición</th></tr>\n",
    "    <tr><td>$OrderedList (\\mathbb{T})$</td><td>$\\mathbb{T}$ admite comparación</td></tr>\n",
    "    <tr><td>$L.add(a)$</td><td>$ a \\in \\mathbb{T}$</td></tr>\n",
    "    <tr><td>$L.remove(a)$</td><td>$ L.contains(a)$</td></tr>\n",
    "    <tr><td>$L.first()$</td><td>$len(L)>0$</td></tr>\n",
    "    <tr><td>$L^n$</td><td>$n\\in[1,len(L)]$</td></tr>\n",
    "</table>\n",
    "\n",
    "\n",
    "- axioms (post conditions):\n",
    "   - **axiom 1**: $len(OrderedList(\\mathbb{T}))=0$\n",
    "   - **axiom 2**: $L^n < L^{n+1}$\n",
    "   - **axiom 3**: $L.contains(a) \\iff \\exists n \\;\\;|\\;\\; a = L^n$\n",
    "   - **axiom 4**: $len(L.add(a)) = len(L)+ 1 - L.contains(a)$\n",
    "   - **axiom 5**: $len(L.remove(a)) = len(L) - L.contains(a)$\n",
    "   - **axiom 6**: $L.add(a) \\Rightarrow L.contains(a)$\n",
    "   - **axiom 7**: $L.remove(a) \\Rightarrow \\neg L.contains(a)$\n",
    "\n",
    "Dada una implementación concreta, los axiomas nos permiten verificar si la implementación es correcta."
   ]
  },
  {
   "cell_type": "markdown",
   "metadata": {},
   "source": [
    "### Implementación en Python\n",
    "\n",
    "**Observa**:\n",
    "\n",
    "- el TAD se implementa como una clase de Python\n",
    "- las precondiciones las implementamos con `assert`\n",
    "- ¿qué tan eficiente es esta implementación?"
   ]
  },
  {
   "cell_type": "code",
   "execution_count": 5,
   "metadata": {},
   "outputs": [],
   "source": [
    "class OrderedList:\n",
    "    \n",
    "    def __init__(self, item_type):\n",
    "        self.item_type = item_type\n",
    "        self.list = []\n",
    "        self.cursor = 0\n",
    "        \n",
    "    def add(self, item):\n",
    "        assert type(item)==self.item_type, \"must comply with declared type\"\n",
    "        self.list = [i for i in self.list if i<item] + [item] + [i for i in self.list if i>item]\n",
    "        return self\n",
    "        \n",
    "    def remove(self, item):\n",
    "        assert self.contains(item), \"item not in list\"\n",
    "        self.list = [i for i in self.list if item!=i]\n",
    "        return self\n",
    "    \n",
    "    def contains(self, item):\n",
    "        return item in self.list\n",
    "    \n",
    "    def first(self):\n",
    "        self.cursor = 1\n",
    "        return self.list[self.cursor-1]\n",
    "    \n",
    "    def __next__(self):\n",
    "        assert self.has_more(), \"no more items in list\"\n",
    "        self.cursor += 1\n",
    "        return self.list[self.cursor-1]\n",
    "    \n",
    "    def has_more(self):\n",
    "        return self.cursor<len(self.list)\n",
    "    \n",
    "    def len(self):\n",
    "        return len(self.list)"
   ]
  },
  {
   "cell_type": "markdown",
   "metadata": {},
   "source": [
    "comprobamos a mano la implementación"
   ]
  },
  {
   "cell_type": "code",
   "execution_count": 6,
   "metadata": {},
   "outputs": [
    {
     "name": "stdout",
     "output_type": "stream",
     "text": [
      "[1, 2, 10]\n",
      "[1, 10]\n"
     ]
    }
   ],
   "source": [
    "k = OrderedList(int)\n",
    "k.add(10).add(1).add(2)\n",
    "print(k.list)\n",
    "k.remove(2)\n",
    "print(k.list)"
   ]
  },
  {
   "cell_type": "markdown",
   "metadata": {},
   "source": [
    "comprobamos alguna precondición"
   ]
  },
  {
   "cell_type": "code",
   "execution_count": 7,
   "metadata": {},
   "outputs": [
    {
     "name": "stdout",
     "output_type": "stream",
     "text": [
      "1 True\n",
      "10 False\n"
     ]
    },
    {
     "ename": "AssertionError",
     "evalue": "no more items in list",
     "output_type": "error",
     "traceback": [
      "\u001b[0;31m---------------------------------------------------------------------------\u001b[0m",
      "\u001b[0;31mAssertionError\u001b[0m                            Traceback (most recent call last)",
      "\u001b[0;32m<ipython-input-7-ba9de29813c3>\u001b[0m in \u001b[0;36m<module>\u001b[0;34m\u001b[0m\n\u001b[1;32m      1\u001b[0m \u001b[0mprint\u001b[0m\u001b[0;34m(\u001b[0m\u001b[0mk\u001b[0m\u001b[0;34m.\u001b[0m\u001b[0mfirst\u001b[0m\u001b[0;34m(\u001b[0m\u001b[0;34m)\u001b[0m\u001b[0;34m,\u001b[0m \u001b[0mk\u001b[0m\u001b[0;34m.\u001b[0m\u001b[0mhas_more\u001b[0m\u001b[0;34m(\u001b[0m\u001b[0;34m)\u001b[0m\u001b[0;34m)\u001b[0m\u001b[0;34m\u001b[0m\u001b[0;34m\u001b[0m\u001b[0m\n\u001b[1;32m      2\u001b[0m \u001b[0mprint\u001b[0m\u001b[0;34m(\u001b[0m\u001b[0mnext\u001b[0m\u001b[0;34m(\u001b[0m\u001b[0mk\u001b[0m\u001b[0;34m)\u001b[0m\u001b[0;34m,\u001b[0m \u001b[0mk\u001b[0m\u001b[0;34m.\u001b[0m\u001b[0mhas_more\u001b[0m\u001b[0;34m(\u001b[0m\u001b[0;34m)\u001b[0m\u001b[0;34m)\u001b[0m\u001b[0;34m\u001b[0m\u001b[0;34m\u001b[0m\u001b[0m\n\u001b[0;32m----> 3\u001b[0;31m \u001b[0mprint\u001b[0m\u001b[0;34m(\u001b[0m\u001b[0mnext\u001b[0m\u001b[0;34m(\u001b[0m\u001b[0mk\u001b[0m\u001b[0;34m)\u001b[0m\u001b[0;34m)\u001b[0m\u001b[0;34m\u001b[0m\u001b[0;34m\u001b[0m\u001b[0m\n\u001b[0m",
      "\u001b[0;32m<ipython-input-5-5f8717398b95>\u001b[0m in \u001b[0;36m__next__\u001b[0;34m(self)\u001b[0m\n\u001b[1;32m     24\u001b[0m \u001b[0;34m\u001b[0m\u001b[0m\n\u001b[1;32m     25\u001b[0m     \u001b[0;32mdef\u001b[0m \u001b[0m__next__\u001b[0m\u001b[0;34m(\u001b[0m\u001b[0mself\u001b[0m\u001b[0;34m)\u001b[0m\u001b[0;34m:\u001b[0m\u001b[0;34m\u001b[0m\u001b[0;34m\u001b[0m\u001b[0m\n\u001b[0;32m---> 26\u001b[0;31m         \u001b[0;32massert\u001b[0m \u001b[0mself\u001b[0m\u001b[0;34m.\u001b[0m\u001b[0mhas_more\u001b[0m\u001b[0;34m(\u001b[0m\u001b[0;34m)\u001b[0m\u001b[0;34m,\u001b[0m \u001b[0;34m\"no more items in list\"\u001b[0m\u001b[0;34m\u001b[0m\u001b[0;34m\u001b[0m\u001b[0m\n\u001b[0m\u001b[1;32m     27\u001b[0m         \u001b[0mself\u001b[0m\u001b[0;34m.\u001b[0m\u001b[0mcursor\u001b[0m \u001b[0;34m+=\u001b[0m \u001b[0;36m1\u001b[0m\u001b[0;34m\u001b[0m\u001b[0;34m\u001b[0m\u001b[0m\n\u001b[1;32m     28\u001b[0m         \u001b[0;32mreturn\u001b[0m \u001b[0mself\u001b[0m\u001b[0;34m.\u001b[0m\u001b[0mlist\u001b[0m\u001b[0;34m[\u001b[0m\u001b[0mself\u001b[0m\u001b[0;34m.\u001b[0m\u001b[0mcursor\u001b[0m\u001b[0;34m-\u001b[0m\u001b[0;36m1\u001b[0m\u001b[0;34m]\u001b[0m\u001b[0;34m\u001b[0m\u001b[0;34m\u001b[0m\u001b[0m\n",
      "\u001b[0;31mAssertionError\u001b[0m: no more items in list"
     ]
    }
   ],
   "source": [
    "print(k.first(), k.has_more())\n",
    "print(next(k), k.has_more())\n",
    "print(next(k))"
   ]
  },
  {
   "cell_type": "code",
   "execution_count": 8,
   "metadata": {},
   "outputs": [
    {
     "ename": "AssertionError",
     "evalue": "must comply with declared type",
     "output_type": "error",
     "traceback": [
      "\u001b[0;31m---------------------------------------------------------------------------\u001b[0m",
      "\u001b[0;31mAssertionError\u001b[0m                            Traceback (most recent call last)",
      "\u001b[0;32m<ipython-input-8-f961c13bf47b>\u001b[0m in \u001b[0;36m<module>\u001b[0;34m\u001b[0m\n\u001b[0;32m----> 1\u001b[0;31m \u001b[0mk\u001b[0m\u001b[0;34m.\u001b[0m\u001b[0madd\u001b[0m\u001b[0;34m(\u001b[0m\u001b[0;34m\"ho\"\u001b[0m\u001b[0;34m)\u001b[0m\u001b[0;34m\u001b[0m\u001b[0;34m\u001b[0m\u001b[0m\n\u001b[0m",
      "\u001b[0;32m<ipython-input-5-5f8717398b95>\u001b[0m in \u001b[0;36madd\u001b[0;34m(self, item)\u001b[0m\n\u001b[1;32m      7\u001b[0m \u001b[0;34m\u001b[0m\u001b[0m\n\u001b[1;32m      8\u001b[0m     \u001b[0;32mdef\u001b[0m \u001b[0madd\u001b[0m\u001b[0;34m(\u001b[0m\u001b[0mself\u001b[0m\u001b[0;34m,\u001b[0m \u001b[0mitem\u001b[0m\u001b[0;34m)\u001b[0m\u001b[0;34m:\u001b[0m\u001b[0;34m\u001b[0m\u001b[0;34m\u001b[0m\u001b[0m\n\u001b[0;32m----> 9\u001b[0;31m         \u001b[0;32massert\u001b[0m \u001b[0mtype\u001b[0m\u001b[0;34m(\u001b[0m\u001b[0mitem\u001b[0m\u001b[0;34m)\u001b[0m\u001b[0;34m==\u001b[0m\u001b[0mself\u001b[0m\u001b[0;34m.\u001b[0m\u001b[0mitem_type\u001b[0m\u001b[0;34m,\u001b[0m \u001b[0;34m\"must comply with declared type\"\u001b[0m\u001b[0;34m\u001b[0m\u001b[0;34m\u001b[0m\u001b[0m\n\u001b[0m\u001b[1;32m     10\u001b[0m         \u001b[0mself\u001b[0m\u001b[0;34m.\u001b[0m\u001b[0mlist\u001b[0m \u001b[0;34m=\u001b[0m \u001b[0;34m[\u001b[0m\u001b[0mi\u001b[0m \u001b[0;32mfor\u001b[0m \u001b[0mi\u001b[0m \u001b[0;32min\u001b[0m \u001b[0mself\u001b[0m\u001b[0;34m.\u001b[0m\u001b[0mlist\u001b[0m \u001b[0;32mif\u001b[0m \u001b[0mi\u001b[0m\u001b[0;34m<\u001b[0m\u001b[0mitem\u001b[0m\u001b[0;34m]\u001b[0m \u001b[0;34m+\u001b[0m \u001b[0;34m[\u001b[0m\u001b[0mitem\u001b[0m\u001b[0;34m]\u001b[0m \u001b[0;34m+\u001b[0m \u001b[0;34m[\u001b[0m\u001b[0mi\u001b[0m \u001b[0;32mfor\u001b[0m \u001b[0mi\u001b[0m \u001b[0;32min\u001b[0m \u001b[0mself\u001b[0m\u001b[0;34m.\u001b[0m\u001b[0mlist\u001b[0m \u001b[0;32mif\u001b[0m \u001b[0mi\u001b[0m\u001b[0;34m>\u001b[0m\u001b[0mitem\u001b[0m\u001b[0;34m]\u001b[0m\u001b[0;34m\u001b[0m\u001b[0;34m\u001b[0m\u001b[0m\n\u001b[1;32m     11\u001b[0m         \u001b[0;32mreturn\u001b[0m \u001b[0mself\u001b[0m\u001b[0;34m\u001b[0m\u001b[0;34m\u001b[0m\u001b[0m\n",
      "\u001b[0;31mAssertionError\u001b[0m: must comply with declared type"
     ]
    }
   ],
   "source": [
    "k.add(\"ho\")"
   ]
  },
  {
   "cell_type": "code",
   "execution_count": 9,
   "metadata": {},
   "outputs": [
    {
     "ename": "AssertionError",
     "evalue": "item not in list",
     "output_type": "error",
     "traceback": [
      "\u001b[0;31m---------------------------------------------------------------------------\u001b[0m",
      "\u001b[0;31mAssertionError\u001b[0m                            Traceback (most recent call last)",
      "\u001b[0;32m<ipython-input-9-3774a04f67d2>\u001b[0m in \u001b[0;36m<module>\u001b[0;34m\u001b[0m\n\u001b[0;32m----> 1\u001b[0;31m \u001b[0mk\u001b[0m\u001b[0;34m.\u001b[0m\u001b[0mremove\u001b[0m\u001b[0;34m(\u001b[0m\u001b[0;36m2\u001b[0m\u001b[0;34m)\u001b[0m\u001b[0;34m\u001b[0m\u001b[0;34m\u001b[0m\u001b[0m\n\u001b[0m",
      "\u001b[0;32m<ipython-input-5-5f8717398b95>\u001b[0m in \u001b[0;36mremove\u001b[0;34m(self, item)\u001b[0m\n\u001b[1;32m     12\u001b[0m \u001b[0;34m\u001b[0m\u001b[0m\n\u001b[1;32m     13\u001b[0m     \u001b[0;32mdef\u001b[0m \u001b[0mremove\u001b[0m\u001b[0;34m(\u001b[0m\u001b[0mself\u001b[0m\u001b[0;34m,\u001b[0m \u001b[0mitem\u001b[0m\u001b[0;34m)\u001b[0m\u001b[0;34m:\u001b[0m\u001b[0;34m\u001b[0m\u001b[0;34m\u001b[0m\u001b[0m\n\u001b[0;32m---> 14\u001b[0;31m         \u001b[0;32massert\u001b[0m \u001b[0mself\u001b[0m\u001b[0;34m.\u001b[0m\u001b[0mcontains\u001b[0m\u001b[0;34m(\u001b[0m\u001b[0mitem\u001b[0m\u001b[0;34m)\u001b[0m\u001b[0;34m,\u001b[0m \u001b[0;34m\"item not in list\"\u001b[0m\u001b[0;34m\u001b[0m\u001b[0;34m\u001b[0m\u001b[0m\n\u001b[0m\u001b[1;32m     15\u001b[0m         \u001b[0mself\u001b[0m\u001b[0;34m.\u001b[0m\u001b[0mlist\u001b[0m \u001b[0;34m=\u001b[0m \u001b[0;34m[\u001b[0m\u001b[0mi\u001b[0m \u001b[0;32mfor\u001b[0m \u001b[0mi\u001b[0m \u001b[0;32min\u001b[0m \u001b[0mself\u001b[0m\u001b[0;34m.\u001b[0m\u001b[0mlist\u001b[0m \u001b[0;32mif\u001b[0m \u001b[0mitem\u001b[0m\u001b[0;34m!=\u001b[0m\u001b[0mi\u001b[0m\u001b[0;34m]\u001b[0m\u001b[0;34m\u001b[0m\u001b[0;34m\u001b[0m\u001b[0m\n\u001b[1;32m     16\u001b[0m         \u001b[0;32mreturn\u001b[0m \u001b[0mself\u001b[0m\u001b[0;34m\u001b[0m\u001b[0;34m\u001b[0m\u001b[0m\n",
      "\u001b[0;31mAssertionError\u001b[0m: item not in list"
     ]
    }
   ],
   "source": [
    "k.remove(2)"
   ]
  },
  {
   "cell_type": "markdown",
   "metadata": {},
   "source": [
    "**SUGERENCIA** ejecuta el código anterior en [Python Tutor](http://www.pythontutor.com/visualize.html#mode=edit)"
   ]
  },
  {
   "cell_type": "markdown",
   "metadata": {},
   "source": [
    "### tests unitarios con los axiomas\n",
    "\n",
    "estos tests son **independientes de la implementación**"
   ]
  },
  {
   "cell_type": "markdown",
   "metadata": {},
   "source": [
    "**axiom 1**: $len(OrderedList(\\mathbb{T}))=0$"
   ]
  },
  {
   "cell_type": "code",
   "execution_count": 10,
   "metadata": {},
   "outputs": [
    {
     "name": "stdout",
     "output_type": "stream",
     "text": [
      "new list length: 0\n"
     ]
    }
   ],
   "source": [
    "def test_axiom1(ordered_list_class):\n",
    "    L = ordered_list_class(int)\n",
    "    print(\"new list length:\", L.len())\n",
    "    assert L.len()==0\n",
    "    \n",
    "test_axiom1(OrderedList)"
   ]
  },
  {
   "cell_type": "markdown",
   "metadata": {},
   "source": [
    "**axiom 2**: $L^n < L^{n+1}$"
   ]
  },
  {
   "cell_type": "code",
   "execution_count": 11,
   "metadata": {},
   "outputs": [
    {
     "name": "stdout",
     "output_type": "stream",
     "text": [
      "inserting 642 495 683 514 101 989 259 166 493 224 565 847 427 981 430 881 317 759 972 650 \n",
      "\n",
      "testing with list [101, 166, 224, 259, 317, 427, 430, 493, 495, 514, 565, 642, 650, 683, 759, 847, 881, 972, 981, 989] \n",
      "\n",
      "101 < 166    166 < 224    224 < 259    259 < 317    317 < 427    427 < 430    430 < 493    493 < 495    495 < 514    514 < 565    565 < 642    642 < 650    650 < 683    683 < 759    759 < 847    847 < 881    881 < 972    972 < 981    981 < 989    "
     ]
    }
   ],
   "source": [
    "def test_axiom2(ordered_list_class):\n",
    "    import numpy as np\n",
    "    \n",
    "    L = ordered_list_class(int)\n",
    "    print(\"inserting\", end=' ') \n",
    "    for i in range(20):\n",
    "        k = np.random.randint(1000)\n",
    "        print(k, end=' ') \n",
    "        L.add(k)\n",
    "    print(\"\\n\\ntesting with list\", L.list, \"\\n\")\n",
    "    \n",
    "    item = L.first()\n",
    "    while L.has_more():\n",
    "        k = next(L)\n",
    "        print(item,\"<\",k, \"  \", end=' ')\n",
    "        assert item < k, \"wrong list order: %d before %d\"%(item,k)\n",
    "        item = k\n",
    "        \n",
    "test_axiom2(OrderedList)"
   ]
  },
  {
   "cell_type": "markdown",
   "metadata": {},
   "source": [
    "### Otra implementación en Python\n",
    "\n",
    "usamos la librería [bisect](https://docs.python.org/2/library/bisect.html). observa este ejemplo"
   ]
  },
  {
   "cell_type": "code",
   "execution_count": 12,
   "metadata": {},
   "outputs": [
    {
     "name": "stdout",
     "output_type": "stream",
     "text": [
      "3 3\n",
      "3 4\n",
      "[1, 2, 9, 10, 12, 30]\n"
     ]
    }
   ],
   "source": [
    "import bisect        \n",
    "l = [1,2,10,12,30]\n",
    "print(bisect.bisect_left(l,11), bisect.bisect_right(l,11))\n",
    "print(bisect.bisect_left(l,12), bisect.bisect_right(l,12))\n",
    "bisect.insort_left(l,9)\n",
    "print(l)"
   ]
  },
  {
   "cell_type": "markdown",
   "metadata": {},
   "source": [
    "Observa cómo usamos herencia para redefinir sólo los métodos que queremos"
   ]
  },
  {
   "cell_type": "code",
   "execution_count": 13,
   "metadata": {},
   "outputs": [],
   "source": [
    "class OrderedList_bisect(OrderedList):\n",
    "    \n",
    "    def add(self, item):\n",
    "        assert type(item)==self.item_type, \"must comply with declared type\"\n",
    "        if not self.contains(item):\n",
    "            bisect.insort_left(self.list, item)\n",
    "        return self\n",
    "        \n",
    "    def remove(self, item):\n",
    "        k = bisect.bisect_left(self.list, item)\n",
    "        assert k<len(self.list) and self.list[k]==item,  \"item not in list\"        \n",
    "        self.list = self.list[:k]+self.list[k+1:]\n",
    "        return self\n",
    "        \n",
    "    def contains(self, item):\n",
    "        k = bisect.bisect_left(self.list, item)\n",
    "        return k<len(self.list) and self.list[k]==item"
   ]
  },
  {
   "cell_type": "markdown",
   "metadata": {},
   "source": [
    "### verificamos los axiomas que tenemos implementados"
   ]
  },
  {
   "cell_type": "code",
   "execution_count": 14,
   "metadata": {},
   "outputs": [
    {
     "name": "stdout",
     "output_type": "stream",
     "text": [
      "new list length: 0\n",
      "new list length: 0\n"
     ]
    }
   ],
   "source": [
    "test_axiom1(OrderedList)\n",
    "test_axiom1(OrderedList_bisect)"
   ]
  },
  {
   "cell_type": "code",
   "execution_count": 15,
   "metadata": {},
   "outputs": [
    {
     "name": "stdout",
     "output_type": "stream",
     "text": [
      "inserting 484 210 70 721 896 371 586 943 677 838 833 174 399 331 378 6 543 716 928 810 \n",
      "\n",
      "testing with list [6, 70, 174, 210, 331, 371, 378, 399, 484, 543, 586, 677, 716, 721, 810, 833, 838, 896, 928, 943] \n",
      "\n",
      "6 < 70    70 < 174    174 < 210    210 < 331    331 < 371    371 < 378    378 < 399    399 < 484    484 < 543    543 < 586    586 < 677    677 < 716    716 < 721    721 < 810    810 < 833    833 < 838    838 < 896    896 < 928    928 < 943    "
     ]
    }
   ],
   "source": [
    "test_axiom2(OrderedList)"
   ]
  },
  {
   "cell_type": "code",
   "execution_count": 16,
   "metadata": {},
   "outputs": [
    {
     "name": "stdout",
     "output_type": "stream",
     "text": [
      "inserting 180 149 839 533 669 274 637 321 583 853 379 752 461 444 351 209 822 933 703 922 \n",
      "\n",
      "testing with list [149, 180, 209, 274, 321, 351, 379, 444, 461, 533, 583, 637, 669, 703, 752, 822, 839, 853, 922, 933] \n",
      "\n",
      "149 < 180    180 < 209    209 < 274    274 < 321    321 < 351    351 < 379    379 < 444    444 < 461    461 < 533    533 < 583    583 < 637    637 < 669    669 < 703    703 < 752    752 < 822    822 < 839    839 < 853    853 < 922    922 < 933    "
     ]
    }
   ],
   "source": [
    "test_axiom2(OrderedList_bisect)"
   ]
  },
  {
   "cell_type": "markdown",
   "metadata": {},
   "source": [
    "### medimos rendimiento de ambas implementaciones"
   ]
  },
  {
   "cell_type": "code",
   "execution_count": 17,
   "metadata": {},
   "outputs": [
    {
     "name": "stdout",
     "output_type": "stream",
     "text": [
      "1000 997\n"
     ]
    }
   ],
   "source": [
    "import numpy as np\n",
    "l = np.random.randint(100000,size=1000)\n",
    "print(len(l), len(np.unique(l)))"
   ]
  },
  {
   "cell_type": "markdown",
   "metadata": {},
   "source": [
    "para la operación de `add`"
   ]
  },
  {
   "cell_type": "code",
   "execution_count": 18,
   "metadata": {},
   "outputs": [],
   "source": [
    "L1 = OrderedList(np.int64)\n",
    "L2 = OrderedList_bisect(np.int64)"
   ]
  },
  {
   "cell_type": "code",
   "execution_count": 19,
   "metadata": {},
   "outputs": [
    {
     "name": "stdout",
     "output_type": "stream",
     "text": [
      "146 ms ± 9.04 ms per loop (mean ± std. dev. of 7 runs, 10 loops each)\n"
     ]
    }
   ],
   "source": [
    "%%timeit\n",
    "for i in l:\n",
    "    L1.add(i)"
   ]
  },
  {
   "cell_type": "code",
   "execution_count": 20,
   "metadata": {},
   "outputs": [
    {
     "name": "stdout",
     "output_type": "stream",
     "text": [
      "1.55 ms ± 37 µs per loop (mean ± std. dev. of 7 runs, 1000 loops each)\n"
     ]
    }
   ],
   "source": [
    "%%timeit\n",
    "for i in l:\n",
    "    L2.add(i)"
   ]
  },
  {
   "cell_type": "markdown",
   "metadata": {},
   "source": [
    "para la operación `contains`"
   ]
  },
  {
   "cell_type": "code",
   "execution_count": 21,
   "metadata": {},
   "outputs": [
    {
     "name": "stdout",
     "output_type": "stream",
     "text": [
      "997 997\n"
     ]
    }
   ],
   "source": [
    "L1 = OrderedList(np.int64)\n",
    "L2 = OrderedList_bisect(np.int64)\n",
    "for i in l:\n",
    "    L1.add(i)\n",
    "    L2.add(i)\n",
    "print(L1.len(), L2.len())"
   ]
  },
  {
   "cell_type": "code",
   "execution_count": 22,
   "metadata": {},
   "outputs": [
    {
     "name": "stdout",
     "output_type": "stream",
     "text": [
      "16.8 ms ± 146 µs per loop (mean ± std. dev. of 7 runs, 100 loops each)\n"
     ]
    }
   ],
   "source": [
    "%%timeit\n",
    "for i in l:\n",
    "    L1.contains(i)"
   ]
  },
  {
   "cell_type": "code",
   "execution_count": 23,
   "metadata": {},
   "outputs": [
    {
     "name": "stdout",
     "output_type": "stream",
     "text": [
      "1.26 ms ± 30.3 µs per loop (mean ± std. dev. of 7 runs, 1000 loops each)\n"
     ]
    }
   ],
   "source": [
    "%%timeit\n",
    "for i in l:\n",
    "    L2.contains(i)"
   ]
  },
  {
   "cell_type": "markdown",
   "metadata": {},
   "source": [
    "## Ejercicios propuestos:\n",
    "\n",
    "- Complete la estructura númeroNatural incluyendo las operaciones módulo, potencia, factorial, máximo común divisor, mínimo común múltiplo, diferente, mayor, mayor o igual, menor y menor o igual.\n",
    "\n",
    "- Defina estructura númeroEntero incluyendo las mismas operaciones que en la estructura númeroNatural. Defina operaciones que considere necesarias para desarrollar los axiomas de las funciones definidas.\n",
    "\n",
    "-\tDefina una estructura Conjunto con operaciones Unión, Intersección, Pertenencia y Complemento.\n",
    "\n",
    "-\tDefina estructura String con operaciones esVacío, longitud, concatenación, subHilera y posición.\n",
    "\n",
    "-\tDefina estructura Lógico con sus correspondientes funciones y axiomas.\n"
   ]
  },
  {
   "cell_type": "code",
   "execution_count": null,
   "metadata": {},
   "outputs": [],
   "source": []
  }
 ],
 "metadata": {
  "kernelspec": {
   "display_name": "p37",
   "language": "python",
   "name": "python3"
  },
  "language_info": {
   "codemirror_mode": {
    "name": "ipython",
    "version": 3
   },
   "file_extension": ".py",
   "mimetype": "text/x-python",
   "name": "python",
   "nbconvert_exporter": "python",
   "pygments_lexer": "ipython3",
   "version": "3.7.3"
  }
 },
 "nbformat": 4,
 "nbformat_minor": 2
}
