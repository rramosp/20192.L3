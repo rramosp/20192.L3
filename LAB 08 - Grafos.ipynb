{
 "cells": [
  {
   "cell_type": "code",
   "execution_count": 1,
   "metadata": {},
   "outputs": [],
   "source": [
    "!wget --no-cache -O init.py -q https://raw.githubusercontent.com/rramosp/20192.L3/master/init.py\n",
    "import init; init.init(force_download=False); init.get_weblink()"
   ]
  },
  {
   "cell_type": "code",
   "execution_count": 2,
   "metadata": {},
   "outputs": [],
   "source": [
    "import init\n",
    "from local.lib.rlxmoocapi import submit, session\n",
    "import inspect\n",
    "student = session.Session(init.endpoint).login( course_id=init.course_id, \n",
    "                                                session_id=\"UDEA\", \n",
    "                                                lab_id=\"lab_08\" )"
   ]
  },
  {
   "cell_type": "markdown",
   "metadata": {},
   "source": [
    "## Ejercicio 1\n",
    "\n",
    "crea el constructor de un grafo que se representa como una lista de nodos conectados para cada nodo. Por ejemplo:\n",
    "\n",
    "    g1 = Graph(num_nodes=4, edge_list=[(0, 1), (0, 2), (0, 3), (1, 2), (1, 3), (2, 3), (2,1)])\n",
    "    print g1.nodes\n",
    "\n",
    "    > {0: [1, 2, 3], 1: [0, 2, 3], 2: [0, 1, 3], 3: [0, 1, 2]}\n",
    "    \n",
    "o también en el caso de un grafo dirigido:\n",
    "\n",
    "    g1 = Graph(num_nodes=4, edge_list=[(0, 1), (0, 2), (0, 3), (1, 2), (1, 3), (2, 3), (2,1)], is_directed=True)\n",
    "    print g1.nodes\n",
    "    \n",
    "    > {0: [1, 2, 3], 1: [2, 3], 2: [1, 3], 3: [], 4: []}\n",
    "\n",
    "observa que, \n",
    "\n",
    "- si tenemos un grafo dirigido y el lado $(V_i, V_j)$, entonces $i$ ha de estar en la lista de nodos de $j$ y viceversa.\n",
    "- en cambio, con un grafo no dirigido, sólo $i$ ha de estar en la lista de nodos de $j$.\n",
    "- la lista de nodos conectados con cada nodo ha de quedar **compacta**, no puede haber nodos repetidos. P.ej. si en la lista de lados se encuentran ambos (5,1) y (1,5), o hay lados repetidos.\n",
    "- si algún nodo no tiene lados salientes en un grafo dirigido, la lista correspondiente a ese nodo quedara vacía."
   ]
  },
  {
   "cell_type": "code",
   "execution_count": 92,
   "metadata": {},
   "outputs": [],
   "source": [
    "def Graph1(num_nodes, edge_list, is_directed=False, **kwargs):\n",
    "    \n",
    "    import numpy as np\n",
    "    class Graph1_class:\n",
    "\n",
    "        def __init__(self, num_nodes=num_nodes, edge_list=edge_list, is_directed=is_directed, **kwargs):\n",
    "\n",
    "            assert type(edge_list)==list, \"edge_list must be a list of tuples\"\n",
    "            assert type(num_nodes)==int, \"num_nodes must be an int\"\n",
    "            \n",
    "            for t in edge_list:\n",
    "                assert len(t)==2, \"edge_list must be a list of tuples\"\n",
    "                assert t[0]<num_nodes and t[0]>=0 and t[1]<num_nodes and t[1]>=0, \"edge number not allowed \" + str(t)\n",
    "\n",
    "            <-- INGRESA TU CODIGO AQUÍ-->\n",
    "                \n",
    "    return Graph1_class(**kwargs)"
   ]
  },
  {
   "cell_type": "markdown",
   "metadata": {},
   "source": [
    "prueba tu código"
   ]
  },
  {
   "cell_type": "code",
   "execution_count": 93,
   "metadata": {},
   "outputs": [],
   "source": [
    "g1 = Graph1(4, [(0, 1), (0, 2), (0, 3), (1, 2), (1, 3), (2, 3), (2,1)])\n",
    "print(g1.nodes)"
   ]
  },
  {
   "cell_type": "code",
   "execution_count": 94,
   "metadata": {},
   "outputs": [],
   "source": [
    "g1 = Graph1(5, [(0, 1), (0, 2), (0, 3), (1, 2), (1, 3), (2, 3), (2,1)], is_directed=True)\n",
    "print(g1.nodes)"
   ]
  },
  {
   "cell_type": "markdown",
   "metadata": {},
   "source": [
    "#### registra tu solución en línea"
   ]
  },
  {
   "cell_type": "code",
   "execution_count": 95,
   "metadata": {},
   "outputs": [],
   "source": [
    "student.submit_task(globals(), task_id=\"task_01\");"
   ]
  },
  {
   "cell_type": "markdown",
   "metadata": {},
   "source": [
    "## Ejercicio 2\n",
    "\n",
    "completa el método `as_nx` para crear el grafo de `networkx` correspondiente. Revisa la documentación de `networkx.Graph` y de `networkx.DiGraph`. Ten en cuenta que:\n",
    "\n",
    "- la clase para grafos no dirigidos es `networkx.Graph`\n",
    "- la clase para grados dirigidos es `networkx.DiGraph`\n",
    "- en cualquiera de los dos casos el método para añadir nodos es `add_nodes_from`\n",
    "- en cualquiera de los dos casos el método para añadir lados es `add_edge`\n",
    "\n",
    "Una vez hayas implementado tu método, puedes usar `draw` para visualizar el grafo."
   ]
  },
  {
   "cell_type": "code",
   "execution_count": 111,
   "metadata": {},
   "outputs": [],
   "source": [
    "def Graph2(num_nodes, edge_list, is_directed=False, **kwargs):\n",
    "    \n",
    "    import numpy as np\n",
    "    import networkx as nx\n",
    "\n",
    "    class Graph2_class:\n",
    "        def __init__(self, num_nodes=num_nodes, edge_list=edge_list, is_directed=is_directed, **kwargs):\n",
    "            assert type(edge_list)==list, \"edge_list must be a list of tuples\"\n",
    "            assert type(num_nodes)==int, \"num_nodes must be an int\"\n",
    "            \n",
    "            for t in edge_list:\n",
    "                assert len(t)==2, \"edge_list must be a list of tuples\"\n",
    "                assert t[0]<num_nodes and t[0]>=0 and t[1]<num_nodes and t[1]>=0, \"edge number not allowed \" + str(t)\n",
    "\n",
    "            < ---- SU CODIGO AQUÍ --->\n",
    "\n",
    "\n",
    "\n",
    "        def as_nx(self):\n",
    "            \n",
    "            \n",
    "            g = < ---- SU CODIGO AQUÍ --->\n",
    "            \n",
    "            return g\n",
    "\n",
    "\n",
    "        def draw(self):\n",
    "            ng = self.as_nx()\n",
    "            nx.drawing.draw(ng, arrows=self.is_directed, with_labels=True, \n",
    "                            node_alpha=.2, node_color=\"blue\", \n",
    "                            node_size=900, font_color=\"white\")\n",
    "            \n",
    "    return Graph2_class(**kwargs)"
   ]
  },
  {
   "cell_type": "markdown",
   "metadata": {},
   "source": [
    "prueba tu código"
   ]
  },
  {
   "cell_type": "code",
   "execution_count": 112,
   "metadata": {},
   "outputs": [],
   "source": [
    "\n",
    "import matplotlib.pyplot as plt\n",
    "%matplotlib inline\n",
    "\n",
    "g1 = Graph2(5, [(0, 1), (0, 2), (0, 3), (1, 2), (2, 3), (2,4), (3,4)])\n",
    "g1.draw()"
   ]
  },
  {
   "cell_type": "code",
   "execution_count": 113,
   "metadata": {},
   "outputs": [],
   "source": [
    "g2 = Graph2(5, [(0,1), (0,2), (1,3), (2,4), (3,4), (3,2)], is_directed=True)\n",
    "g2.draw()"
   ]
  },
  {
   "cell_type": "markdown",
   "metadata": {},
   "source": [
    "#### registra tu solución en línea"
   ]
  },
  {
   "cell_type": "code",
   "execution_count": 114,
   "metadata": {},
   "outputs": [],
   "source": [
    "student.submit_task(globals(), task_id=\"task_02\");"
   ]
  },
  {
   "cell_type": "markdown",
   "metadata": {},
   "source": [
    "## Ejercicio 3\n",
    "\n",
    "implementa los métodos indicados para tu clase con la implementación del grafo como un diccionario de listas de nodos conectados."
   ]
  },
  {
   "cell_type": "code",
   "execution_count": 190,
   "metadata": {},
   "outputs": [],
   "source": [
    "def Graph3(num_nodes, edge_list, is_directed=False, **kwargs):\n",
    "    \n",
    "    import numpy as np\n",
    "    import networkx as nx\n",
    "    class Graph3_class(object):\n",
    "\n",
    "        def __init__(self, num_nodes=num_nodes, edge_list=edge_list, is_directed=is_directed, **kwargs):\n",
    "            assert type(edge_list)==list, \"edge_list must be a list of tuples\"\n",
    "            assert type(num_nodes)==int, \"num_nodes must be an int\"\n",
    "\n",
    "            for t in edge_list:\n",
    "                assert len(t)==2, \"edge_list must be a list of tuples\"\n",
    "                assert t[0]<num_nodes and t[0]>=0 and t[1]<num_nodes and t[1]>=0, \"edge number not allowed \" + str(t)\n",
    "\n",
    "            < ---- SU CODIGO AQUÍ --->\n",
    "\n",
    "        def assert_valid_node_number(self, n):\n",
    "            assert n>=0 and n<self.num_nodes, \"invalid node number: %d\"%n        \n",
    "\n",
    "        def grade(self, node_number):\n",
    "            self.assert_valid_node_number(node_number)\n",
    "            \n",
    "            return < ---- SU CODIGO AQUÍ --->\n",
    "\n",
    "        def grade_out(self, node_number):\n",
    "            assert self.is_directed, \"only directed graphs have in/out grades\"\n",
    "            self.assert_valid_node_number(node_number)\n",
    "            \n",
    "            return < ---- SU CODIGO AQUÍ --->\n",
    "\n",
    "        def grade_in(self, node_number):\n",
    "            assert self.is_directed, \"only directed graphs have in/out grades\"\n",
    "            self.assert_valid_node_number(node_number)\n",
    "            \n",
    "            return < ---- SU CODIGO AQUÍ --->\n",
    "\n",
    "        def are_adyacent(self, node_number_1, node_number_2):\n",
    "            self.assert_valid_node_number(node_number_1)\n",
    "            self.assert_valid_node_number(node_number_2)\n",
    "\n",
    "            return < ---- SU CODIGO AQUÍ --->\n",
    "\n",
    "        def is_valid_trayectory(self, trayectory):\n",
    "            assert type(trayectory)==list, \"trayectory must be a list\"\n",
    "\n",
    "            return < ---- SU CODIGO AQUÍ --->\n",
    "        \n",
    "        \n",
    "    return Graph3_class(**kwargs)\n",
    "    "
   ]
  },
  {
   "cell_type": "code",
   "execution_count": 191,
   "metadata": {},
   "outputs": [],
   "source": [
    "\n",
    "g1 = Graph3(4, [(0, 1), (0, 2), (1, 2), (1, 3), (2, 3)])\n",
    "for i in range(g1.num_nodes):\n",
    "    print(\"node\",i, \", grade =\", g1.grade(i))"
   ]
  },
  {
   "cell_type": "code",
   "execution_count": 192,
   "metadata": {},
   "outputs": [],
   "source": [
    "g3 = Graph3(4, [(0,1), (1,0), (1,2), (2,0), (2,3)], is_directed=True)\n",
    "for i in range(g3.num_nodes):\n",
    "    print(\"node\",i, \", grade_in =\", g3.grade_in(i),\", grade_out =\", g3.grade_out(i), \", total grade =\", g3.grade(i))"
   ]
  },
  {
   "cell_type": "code",
   "execution_count": 193,
   "metadata": {},
   "outputs": [],
   "source": [
    "print(g3.are_adyacent(0,1))\n",
    "print(g3.are_adyacent(3,2))\n",
    "print(g3.are_adyacent(0,3))"
   ]
  },
  {
   "cell_type": "code",
   "execution_count": 194,
   "metadata": {},
   "outputs": [],
   "source": [
    "t1 = [ 0, 1, 2, 3]\n",
    "t2 = [ 0, 2, 1]\n",
    "t3 = [ 2,0,1,0]\n",
    "print(\"          trayectory    is_valid \")\n",
    "for t in [t1, t2, t3]:\n",
    "    print(\"%20s\"%str(t), \"%10s\"%g3.is_valid_trayectory(t))"
   ]
  },
  {
   "cell_type": "code",
   "execution_count": 195,
   "metadata": {},
   "outputs": [],
   "source": [
    "g3 = Graph3(6, [(4,2), (0,2), (1,3), (2,1), (5,0), (3,4), (5,1), (0,2), (3,4), (4,5),\n",
    "                  (1,4), (1,2), (4,3), (4,1), (4,5), (0,1), (1,4), (2,0), (1,5)], is_directed=True)\n",
    "for i in range(g3.num_nodes):\n",
    "    print(\"node\",i, \", grade_in =\", g3.grade_in(i),\", grade_out =\", g3.grade_out(i), \", total grade =\", g3.grade(i))"
   ]
  },
  {
   "cell_type": "code",
   "execution_count": 196,
   "metadata": {},
   "outputs": [],
   "source": [
    "t = [2,0,5,1,4,3]\n",
    "g3.is_valid_trayectory(t)"
   ]
  },
  {
   "cell_type": "markdown",
   "metadata": {},
   "source": [
    "#### registra tu solución en línea"
   ]
  },
  {
   "cell_type": "code",
   "execution_count": 197,
   "metadata": {},
   "outputs": [],
   "source": [
    "student.submit_task(globals(), task_id=\"task_03\");"
   ]
  },
  {
   "cell_type": "markdown",
   "metadata": {},
   "source": [
    "## Ejercicio 4\n",
    "\n",
    "Realiza el constructor para que inicialice una representación como una matriz de incidencia. Asumamos que tenemos **solamente grafos NO dirigidos**, no tengas el cuenta el caso de grafos dirigidos.\n",
    "\n",
    "Una **matric de incidencia** es una matriz de m filas y n columnas siendo:\n",
    "\n",
    "- m = número vértices del grafo.\n",
    "- n = número lados del grafo.\n",
    "\n",
    "Lo anterior implica que debemos numerar los lados del grafo. Dicha numeración se hace aleatoriamente, o se puede hacer en secuencia con la lista de lados (edges).\n",
    "\n",
    "Fíjate en el siguiente grafo de ejemplo y la matriz de incidencia asociada cualquier columna tiene exactamente dos elementos a 1:\n",
    "\n",
    "    g2 = Graph(7, [(1,4),(0,2), (2,5),(0,1), (1,3), (2,6)])\n",
    "    g2.inc_matrix\n",
    "    \n",
    "    > [[0 1 0 1 0 0]\n",
    "    >  [1 0 0 1 1 0]\n",
    "    >  [0 1 1 0 0 1]\n",
    "    >  [0 0 0 0 1 0]\n",
    "    >  [1 0 0 0 0 0]\n",
    "    >  [0 0 1 0 0 0]\n",
    "    >  [0 0 0 0 0 1]]\n",
    "    "
   ]
  },
  {
   "cell_type": "code",
   "execution_count": 204,
   "metadata": {},
   "outputs": [],
   "source": [
    "import networkx as nx\n",
    "import matplotlib.pyplot as plt\n",
    "%matplotlib inline"
   ]
  },
  {
   "cell_type": "code",
   "execution_count": 209,
   "metadata": {},
   "outputs": [],
   "source": [
    "def Graph4(num_nodes, edge_list, is_directed=False, **kwargs):\n",
    "    \n",
    "    import numpy as np\n",
    "    class Graph4_class:\n",
    "        def __init__(self, num_nodes=num_nodes, edge_list=edge_list, is_directed=is_directed, **kwargs):\n",
    "            assert type(edge_list)==list, \"edge_list must be a list of tuples\"\n",
    "            assert type(num_nodes)==int, \"num_nodes must be an int\"\n",
    "\n",
    "            for t in edge_list:\n",
    "                assert len(t)==2, \"edge_list must be a list of tuples\"\n",
    "                assert t[0]<num_nodes and t[0]>=0 and t[1]<num_nodes and t[1]>=0, \"edge number not allowed \" + str(t)\n",
    "\n",
    "            self.num_nodes   = num_nodes\n",
    "\n",
    "            < ---- SU CODIGO AQUÍ --->\n",
    "                \n",
    "                \n",
    "    return Graph4_class(**kwargs)\n"
   ]
  },
  {
   "cell_type": "code",
   "execution_count": 210,
   "metadata": {},
   "outputs": [],
   "source": [
    "\n",
    "g2 = Graph4(7, [(1,4),(0,2), (2,5),(0,1), (1,3), (2,6)])\n",
    "print(g2.inc_matrix)"
   ]
  },
  {
   "cell_type": "code",
   "execution_count": 211,
   "metadata": {},
   "outputs": [],
   "source": [
    "k = g2.inc_matrix\n",
    "k.sum(axis=0)"
   ]
  },
  {
   "cell_type": "markdown",
   "metadata": {},
   "source": [
    "#### registra tu solución en línea"
   ]
  },
  {
   "cell_type": "code",
   "execution_count": 218,
   "metadata": {},
   "outputs": [],
   "source": [
    "student.submit_task(globals(), task_id=\"task_04\");"
   ]
  },
  {
   "cell_type": "markdown",
   "metadata": {},
   "source": [
    "## Ejercicio 5\n",
    "\n",
    "implementa los métodos siguientes para la clase anterior con matrices de incidencia:\n",
    "\n",
    "- `grade`\n",
    "- `are_adyacent`\n",
    "- `is_valid_trayectory`"
   ]
  },
  {
   "cell_type": "code",
   "execution_count": 227,
   "metadata": {},
   "outputs": [],
   "source": [
    "def Graph5(num_nodes, edge_list, is_directed=False, **kwargs):\n",
    "    \n",
    "    import numpy as np\n",
    "    class Graph5_class:\n",
    "        def __init__(self, num_nodes=num_nodes, edge_list=edge_list, is_directed=is_directed, **kwargs):\n",
    "            assert type(edge_list)==list, \"edge_list must be a list of tuples\"\n",
    "            assert type(num_nodes)==int, \"num_nodes must be an int\"\n",
    "\n",
    "            for t in edge_list:\n",
    "                assert len(t)==2, \"edge_list must be a list of tuples\"\n",
    "                assert t[0]<num_nodes and t[0]>=0 and t[1]<num_nodes and t[1]>=0, \"edge number not allowed \" + str(t)\n",
    "\n",
    "            self.num_nodes   = num_nodes\n",
    "\n",
    "            < ---- SU CODIGO AQUÍ --->\n",
    "\n",
    "        def assert_valid_node_number(self, n):\n",
    "            assert n>=0 and n<self.num_nodes, \"invalid node number: %d\"%n        \n",
    "\n",
    "        def grade(self, node_number):\n",
    "            self.assert_valid_node_number(node_number)\n",
    "            return < ---- SU CODIGO AQUÍ --->\n",
    "\n",
    "        def are_adyacent(self, node_number_1, node_number_2):\n",
    "            self.assert_valid_node_number(node_number_1)\n",
    "            self.assert_valid_node_number(node_number_2)\n",
    "\n",
    "            return < ---- SU CODIGO AQUÍ --->\n",
    "\n",
    "        def is_valid_trayectory(self, trayectory):\n",
    "            assert type(trayectory)==list, \"trayectory must be a list\"\n",
    "\n",
    "           \n",
    "            return < ---- SU CODIGO AQUÍ --->\n",
    "        \n",
    "        \n",
    "    return Graph5_class(**kwargs)"
   ]
  },
  {
   "cell_type": "code",
   "execution_count": 228,
   "metadata": {},
   "outputs": [],
   "source": [
    "\n",
    "g1 = Graph5(4, [(0, 1), (0, 2), (1, 2), (1, 3), (2, 3)])\n",
    "for i in range(g1.num_nodes):\n",
    "    print(\"node\",i, \", grade =\", g1.grade(i))"
   ]
  },
  {
   "cell_type": "code",
   "execution_count": 229,
   "metadata": {},
   "outputs": [],
   "source": [
    "print(g1.are_adyacent(0,1))\n",
    "print(g1.are_adyacent(3,2))\n",
    "print(g1.are_adyacent(0,3))"
   ]
  },
  {
   "cell_type": "code",
   "execution_count": 230,
   "metadata": {},
   "outputs": [],
   "source": [
    "g3 = Graph5(4, [(0,1), (1,0), (1,2), (2,0), (2,3)])\n",
    "t1 = [ 0, 1, 2, 3]\n",
    "t2 = [ 0, 2, 3,1]\n",
    "t3 = [ 2,0,1,0]\n",
    "print(\"          trayectory    is_valid \")\n",
    "for t in [t1, t2, t3]:\n",
    "    print(\"%20s\"%str(t), \"%10s\"%g3.is_valid_trayectory(t))"
   ]
  },
  {
   "cell_type": "markdown",
   "metadata": {},
   "source": [
    "#### registra tu solución en línea"
   ]
  },
  {
   "cell_type": "code",
   "execution_count": 231,
   "metadata": {},
   "outputs": [],
   "source": [
    "student.submit_task(globals(), task_id=\"task_05\");"
   ]
  },
  {
   "cell_type": "code",
   "execution_count": null,
   "metadata": {},
   "outputs": [],
   "source": []
  }
 ],
 "metadata": {
  "kernelspec": {
   "display_name": "Python 3",
   "language": "python",
   "name": "python3"
  },
  "language_info": {
   "codemirror_mode": {
    "name": "ipython",
    "version": 3
   },
   "file_extension": ".py",
   "mimetype": "text/x-python",
   "name": "python",
   "nbconvert_exporter": "python",
   "pygments_lexer": "ipython3",
   "version": "3.7.5"
  }
 },
 "nbformat": 4,
 "nbformat_minor": 2
}
