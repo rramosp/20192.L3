{
 "cells": [
  {
   "cell_type": "markdown",
   "metadata": {},
   "source": [
    "## Objetivo del módulo\n",
    "\n",
    "Conocer la estructura grafo, la forma como se clasifican, la terminología usada en dicha estructura y la forma de representarla dentro de un computador.\n",
    "\n",
    "## Preguntas\n",
    "\n",
    "1.\t¿Qué es un grafo?\n",
    "2.\t¿Qué es un grafo dirigido?\n",
    "3.\t¿Qué es un grafo no dirigido?\n",
    "4.\t¿En qué consiste la relación de adyacencia?\n",
    "5.\t¿En qué consiste la relación de incidencia?\n",
    "6.\t¿Cuál es el grado de un vértice?\n",
    "7.\t¿Qué es el grado entrante?\n",
    "8.\t¿Qué es el grado saliente?\n",
    "9.\t¿Qué es una trayectoria?\n",
    "10.\t¿Cuál es la longitud de una trayectoria?\n",
    "11.\t¿Qué es una trayectoria simple?\n",
    "12.\t¿Qué es un ciclo?\n",
    "13.\t¿Qué es un grafo conectado?\n",
    "14.\t¿Qué es un grafo completo?"
   ]
  },
  {
   "cell_type": "markdown",
   "metadata": {},
   "source": [
    "## Introducción\n",
    "\n",
    "Introducción\n",
    "Trataremos en este módulo los conceptos básicos sobre grafos. Los grafos son estructuras ampliamente utilizadas en el modelaje de muchas situaciones que se presentan en la vida real. Un grafo se puede utilizar para representar el pensum de un programa, la secuencia de actividades para construir un edificio, los vuelos de una aerolínea, el sistema vial de una ciudad, una red de computadoras, etc.\n",
    "\n",
    "**Definición**: Un grafo consta de:\n",
    "- Un conjunto finito de vértices.\n",
    "- Un conjunto de pares de vértices llamados lados.\n",
    "\n",
    "Por ejemplo:"
   ]
  },
  {
   "cell_type": "code",
   "execution_count": 1,
   "metadata": {},
   "outputs": [
    {
     "data": {
      "image/jpeg": "[encoded data removed]",
      "text/plain": [
       "<IPython.core.display.Image object>"
      ]
     },
     "execution_count": 1,
     "metadata": {
      "image/jpeg": {
       "width": 700
      }
     },
     "output_type": "execute_result"
    }
   ],
   "source": [
    "from IPython.display import Image\n",
    "Image(filename='imgs/grafos.jpg', width=700)"
   ]
  },
  {
   "cell_type": "markdown",
   "metadata": {},
   "source": [
    "Los conjuntos de vértices y lados para cada uno de los grafos de la figura son:\n",
    "\n",
    "Grafo **G1**:\n",
    "- $V = \\{0, 1, 2, 3\\}$\n",
    "- $E = \\{(0, 1), (0, 2), (0, 3), (1, 2), (1, 3), (2, 3)\\}$\n",
    "\n",
    "\n",
    "Grafo **G2**    \n",
    "- $V = \\{0, 1, 2, 3, 4, 5, 6\\}$\n",
    "- $E = \\{(0,1), (0,2), (1,3), (1,4), (2,5), (2,6)\\}$\n",
    "\n",
    "Grafo **G3*                        \n",
    "- $V = \\{0, 1, 2\\}$\n",
    "- $E = \\{<0, 1>, <1, 0>, <1, 2>, <2, 0>\\}$\n",
    "\n",
    "### Tipos de grafos\n",
    "\n",
    "- **Grafos no Dirigidos**: son aquellos en los cuales los lados no están orientados, como en los grafos G1 y G2. Cuando se trata de grafos no dirigidos cada  pareja de vértices se representa entre paréntesis. El orden de los vértices que definen un lado no es relevante, es decir el lado $(V_i, V_j)$ es exactamente lo mismo que el lado $(V_j, V_i)$         \n",
    "          \n",
    "- **Grafos Dirigidos**: Son aquellos grafos en los cuales los lados están orientados como en el grafo G3. La pareja de vértices que representa un lado se escribe entre ángulos. La orientación del lado depende del orden en que  escriba la pareja de vértices. Es decir, el lado $<V_i, V_j>$ es diferente del  lado  $<V_j, V_i>$.\n",
    "\n",
    "Cuando se trata de un grafo dirigido, cada vértice de un lado se diferencia así:\n",
    "\n",
    "$<V_i, V_j>$:\n",
    "- $V_i$ = cola del lado\n",
    "- $V_j$ = cabeza del lado\n"
   ]
  },
  {
   "cell_type": "markdown",
   "metadata": {},
   "source": [
    "### Terminología\n",
    "\n",
    "Dos vértices son **adyacentes** si conforman un lado.\n",
    "\n",
    "En el grafo G1 los vértices 0 y 1 son adyacentes, también lo son los vértices  1 y 2.\n",
    "\n",
    "Para grafos dirigidos la relación de adyacencia se discrimina así: Si tenemos el lado $<V_i, V_j>$ se dice que $V_i$ es adyacente hacia $V_j$ y que $V_j$ es adyacente desde $V_i$.\n",
    "\n",
    "El lado formado por dos vértices es **incidente** sobre ellos.\n",
    "\n",
    "**Grado de un Vértice**: Es el número de lados incidentes sobre él. Para el grafo G1 el grado del vértice 0 es 3.  Para el grafo G2 el vértice 3 tiene grado 1 y el vértice 2 tiene grado 3. Para el grafo G3 el vértice 1 tiene grado 3.\n",
    "\n",
    "Para grafos Dirigidos hay que diferenciar entre grado entrante y grado saliente.\n",
    "\n",
    "**Grado entrante** es el número de lados que llegan al vértice y **grado saliente** es el número de lados que salen del vértice.\n",
    "\n",
    "Para el grafo G3 el vértice 0 tiene: grado entrante = 2 y  grado saliente = 1\n",
    "\n",
    "En grafos dirigidos el grado total es la suma del grado entrante más el grado saliente.\n",
    "\n",
    "**Trayectoria**: Son los vértices por los cuales hay que pasar para ir desde un vértice i hacia un vértice j. Por ejemplo en el grafo G2 para ir desde el vértice 3 hacia el 5, la trayectoria es:\n",
    "\n",
    "               3, 1, 0, 2, 5       {1}\n",
    "\n",
    "Para que una trayectoria sea válida la condición es que los lados sobre la trayectoria existan en el conjunto de lados que define el grafo. En nuestro ejemplo, los lados definidos en la trayectoria son los lados (3,1), (1,0), (0,2) y (2,5). Todos esos lados existen en el conjunto de lados que definen el grafo G2, por tanto dicha trayectoria es válida. \n",
    "\n",
    "Si tuviéramos otra trayectoria: \n",
    "\n",
    "     \t\t3, 1, 2, 5\n",
    "\n",
    "Los lados definidos en ella son: (3, 1), (1, 2) y (1, 5). Si observamos el conjunto de lados que define el grafo G2, allí no se encuentra definido el lado (1, 2), por consiguiente, la trayectoria presentada aquí no es válida.\n",
    "\n",
    "**Longitud de una trayectoria**: Es el número de lados en ella. En el ejemplo de la trayectoria {1}, la cual, es válida, en el grafo G2, para ir desde el vértice cuatro hacia el vértice seis es 4, es decir hay que pasar por cuatro lados.\n",
    "\n",
    "**Trayectoria Simple**: Es una trayectoria en la que todos los vértices, excepto posiblemente el primero y el último, son diferentes. Por ejemplo, si consideramos el grafo G1, una trayectoria para ir desde el vértice 0 hacia el vértice 3 sería:\n",
    "\t\t\t\t\t0, 2, 1, 3\n",
    "\n",
    "y esta es una trayectoria simple. Todos los vértices en ella son diferentes.\n",
    "\n",
    "Si en el mismo grafo G1 consideramos la siguiente trayectoria:\n",
    "\n",
    "\t\t\t\t\t0, 2, 1, 3, 0\n",
    "\n",
    "también será una trayectoria simple. Todos los vértices son diferentes excepto el primero y el último.\n",
    "\n",
    "Si consideramos una trayectoria como:\n",
    "\n",
    "\t\t\t\t\t0, 2, 1, 3, 1, 0\n",
    "\n",
    "esta ya no es una trayectoria simple porque por el vértice 1 se pasa dos veces.\n",
    "\n",
    "**Ciclo**: Es una trayectoria simple en la cual el primero y el último vértice son el mismo. Por ejemplo, en el mismo grafo G1 la trayectoria\n",
    "\t\t\t\t\t0, 2, 1, 3, 0\n",
    "es un ciclo.\n",
    "\n",
    "\n",
    "**Grafo Conectado**: Se dice que un grafo es conectado si desde cualquier vértice i del grafo se puede ir hacia cualquier otro vértice j del grafo. Este concepto se usa para grafos no dirigidos. Para grafos dirigidos se utiliza el concepto de **grafo fuertemente conectado**. Se dice que un grafo dirigido está fuertemente conectado se desde cualquier vértice se puede viajar hacia cualquier otro vértice del grafo.\n",
    "\n",
    "Para grafos no dirigidos: el máximo número de lados es: $\\frac{n(n – 1)}{2}$ siendo $n$ el número de vértices del grafo\n",
    "\n",
    "Para grafos dirigidos: el máximo número de lados es $n(n – 1)$.\n",
    "\n",
    "Un grafo dirigido es completo cuando tiene n vértices y $n(n – 1)$ lados.\n",
    "\n",
    "\n"
   ]
  },
  {
   "cell_type": "markdown",
   "metadata": {},
   "source": [
    "## Representación de grafos con matrices de adyacencia\n",
    "\n",
    "observa la siguiente implementación y cómo en `self.ady_matrix` se guarda la información del grafo"
   ]
  },
  {
   "cell_type": "code",
   "execution_count": 2,
   "metadata": {},
   "outputs": [],
   "source": [
    "import numpy as np\n",
    "class Graph:\n",
    "    def __init__(self, num_nodes, edge_list, is_directed=False):\n",
    "        assert type(edge_list)==list, \"edge_list must be a list of tuples\"\n",
    "        assert type(num_nodes)==int, \"num_nodes must be an int\"\n",
    "        \n",
    "        for t in edge_list:\n",
    "            assert len(t)==2, \"edge_list must be a list of tuples\"\n",
    "            assert t[0]<num_nodes and t[0]>=0 and t[1]<num_nodes and t[1]>=0, \"edge number not allowed \" + str(t)\n",
    "            \n",
    "        self.ady_matrix  = np.zeros((num_nodes, num_nodes)).astype(int)\n",
    "        self.is_directed = is_directed\n",
    "        self.num_nodes   = num_nodes\n",
    "        for i,j in edge_list:\n",
    "            self.ady_matrix[i,j]=1\n",
    "            if not is_directed:\n",
    "                self.ady_matrix[j,i]=1"
   ]
  },
  {
   "cell_type": "code",
   "execution_count": 3,
   "metadata": {},
   "outputs": [
    {
     "data": {
      "text/plain": [
       "array([[0, 1, 1, 1],\n",
       "       [1, 0, 1, 1],\n",
       "       [1, 1, 0, 1],\n",
       "       [1, 1, 1, 0]])"
      ]
     },
     "execution_count": 3,
     "metadata": {},
     "output_type": "execute_result"
    }
   ],
   "source": [
    "g1 = Graph(4, [(0, 1), (0, 2), (0, 3), (1, 2), (1, 3), (2, 3)])\n",
    "g1.ady_matrix"
   ]
  },
  {
   "cell_type": "code",
   "execution_count": 4,
   "metadata": {},
   "outputs": [
    {
     "data": {
      "text/plain": [
       "array([[0, 1, 1, 0, 0, 0, 0],\n",
       "       [1, 0, 0, 1, 1, 0, 0],\n",
       "       [1, 0, 0, 0, 0, 1, 1],\n",
       "       [0, 1, 0, 0, 0, 0, 0],\n",
       "       [0, 1, 0, 0, 0, 0, 0],\n",
       "       [0, 0, 1, 0, 0, 0, 0],\n",
       "       [0, 0, 1, 0, 0, 0, 0]])"
      ]
     },
     "execution_count": 4,
     "metadata": {},
     "output_type": "execute_result"
    }
   ],
   "source": [
    "g2 = Graph(7, [(0,1), (0,2), (1,3), (1,4), (2,5), (2,6)])\n",
    "g2.ady_matrix"
   ]
  },
  {
   "cell_type": "code",
   "execution_count": 5,
   "metadata": {},
   "outputs": [
    {
     "data": {
      "text/plain": [
       "array([[0, 1, 0],\n",
       "       [1, 0, 1],\n",
       "       [1, 0, 0]])"
      ]
     },
     "execution_count": 5,
     "metadata": {},
     "output_type": "execute_result"
    }
   ],
   "source": [
    "g3 = Graph(3, [(0,1), (1,0), (1,2), (2,0)], is_directed=True)\n",
    "g3.ady_matrix"
   ]
  },
  {
   "cell_type": "markdown",
   "metadata": {},
   "source": [
    "Observa que\n",
    "- para grafos no dirigidos la matriz de adyacencia es simétrica.\n",
    "- la matriz puede ser dispersa, por consiguiente se podrá implementar como una matriz dispersa, como en las notas anteriores."
   ]
  },
  {
   "cell_type": "markdown",
   "metadata": {},
   "source": [
    "observa cómo implementamos ciertos métodos"
   ]
  },
  {
   "cell_type": "code",
   "execution_count": 6,
   "metadata": {},
   "outputs": [],
   "source": [
    "class Graph2(Graph):\n",
    "\n",
    "    def assert_valid_node_number(self, n):\n",
    "        assert n>=0 and n<self.num_nodes, \"invalid node number: %d\"%n        \n",
    "    \n",
    "    def grade(self, node_number):\n",
    "        self.assert_valid_node_number(node_number)\n",
    "        return np.sum(self.ady_matrix[node_number]) if not self.is_directed else self.grade_out(node_number)+self.grade_in(node_number)\n",
    "    \n",
    "    def grade_out(self, node_number):\n",
    "        assert self.is_directed, \"only directed graphs have in/out grades\"\n",
    "        self.assert_valid_node_number(node_number)\n",
    "        return np.sum(self.ady_matrix[node_number])\n",
    "\n",
    "    def grade_in(self, node_number):\n",
    "        assert self.is_directed, \"only directed graphs have in/out grades\"\n",
    "        self.assert_valid_node_number(node_number)\n",
    "        return np.sum(self.ady_matrix[:, node_number])\n",
    "\n",
    "    def are_adyacent(self, node_number_1, node_number_2):\n",
    "        self.assert_valid_node_number(node_number_1)\n",
    "        self.assert_valid_node_number(node_number_2)\n",
    "        \n",
    "        return self.ady_matrix[node_number_1, node_number_2]==1 or self.ady_matrix[node_number_2, node_number_1]==1\n",
    "        \n",
    "    def is_valid_trayectory(self, trayectory):\n",
    "        assert type(trayectory)==list, \"trayectory must be a list\"\n",
    "        \n",
    "        n = trayectory[0]\n",
    "        self.assert_valid_node_number(n)\n",
    "\n",
    "        for i in trayectory[1:]:\n",
    "            self.assert_valid_node_number(i)\n",
    "            if self.ady_matrix[n,i]!=1:\n",
    "                return False\n",
    "            n=i\n",
    "        return True\n",
    "    \n",
    "    def is_simple_trayectory(self, trayectory):\n",
    "        return self.is_valid_trayectory(trayectory) and \\\n",
    "               len(np.unique(trayectory[1:-1])) == len(trayectory[1:-1]) and \\\n",
    "               np.allclose(np.sort(np.unique(trayectory[1:-1])), np.sort(trayectory[1:-1]))\n",
    "    \n",
    "    def is_cycle(self, trayectory):\n",
    "        return self.is_simple_trayectory(trayectory) and trayectory[0]==trayectory[-1]\n",
    "    \n",
    "    \n",
    "    def is_complete(self):\n",
    "        assert self.is_directed, \"only directed graphs can be checked if complete\"\n",
    "        \n",
    "        return np.allclose(1-np.eye(self.ady_matrix.shape[0]), self.ady_matrix)"
   ]
  },
  {
   "cell_type": "code",
   "execution_count": 7,
   "metadata": {},
   "outputs": [
    {
     "name": "stdout",
     "output_type": "stream",
     "text": [
      "node 0 , grade = 3\n",
      "node 1 , grade = 3\n",
      "node 2 , grade = 3\n",
      "node 3 , grade = 3\n"
     ]
    }
   ],
   "source": [
    "g1 = Graph2(4, [(0, 1), (0, 2), (0, 3), (1, 2), (1, 3), (2, 3)])\n",
    "for i in range(g1.num_nodes):\n",
    "    print(\"node\",i, \", grade =\", g1.grade(i))"
   ]
  },
  {
   "cell_type": "code",
   "execution_count": 8,
   "metadata": {},
   "outputs": [
    {
     "name": "stdout",
     "output_type": "stream",
     "text": [
      "node 0 , grade_in = 2 , grade_out = 1 , total grade = 3\n",
      "node 1 , grade_in = 1 , grade_out = 2 , total grade = 3\n",
      "node 2 , grade_in = 1 , grade_out = 2 , total grade = 3\n",
      "node 3 , grade_in = 1 , grade_out = 0 , total grade = 1\n"
     ]
    }
   ],
   "source": [
    "g3 = Graph2(4, [(0,1), (1,0), (1,2), (2,0), (2,3)], is_directed=True)\n",
    "for i in range(g3.num_nodes):\n",
    "    print(\"node\",i, \", grade_in =\", g3.grade_in(i),\", grade_out =\", g3.grade_out(i), \", total grade =\", g3.grade(i))"
   ]
  },
  {
   "cell_type": "code",
   "execution_count": null,
   "metadata": {},
   "outputs": [],
   "source": []
  },
  {
   "cell_type": "code",
   "execution_count": 9,
   "metadata": {},
   "outputs": [
    {
     "name": "stdout",
     "output_type": "stream",
     "text": [
      "True\n",
      "True\n",
      "False\n"
     ]
    }
   ],
   "source": [
    "print(g3.are_adyacent(0,1))\n",
    "print(g3.are_adyacent(3,2))\n",
    "print(g3.are_adyacent(0,3))"
   ]
  },
  {
   "cell_type": "code",
   "execution_count": 10,
   "metadata": {},
   "outputs": [
    {
     "name": "stdout",
     "output_type": "stream",
     "text": [
      "          trayectory    is_valid   is_simple   is_cycle\n",
      "        [0, 2, 1, 3]       True       True      False\n",
      "     [0, 2, 1, 2, 3]       True      False      False\n",
      "     [0, 2, 1, 3, 0]       True       True       True\n"
     ]
    }
   ],
   "source": [
    "t1 = [ 0, 2, 1, 3]\n",
    "t2 = [ 0, 2, 1, 2, 3]\n",
    "t3 = [ 0, 2, 1, 3, 0]\n",
    "print(\"          trayectory    is_valid   is_simple   is_cycle\")\n",
    "for t in [t1, t2, t3]:\n",
    "    print(\"%20s\"%str(t), \"%10s\"%g1.is_valid_trayectory(t),\"%10s\"%g1.is_simple_trayectory(t), \"%10s\"%g1.is_cycle(t))"
   ]
  },
  {
   "cell_type": "code",
   "execution_count": 11,
   "metadata": {},
   "outputs": [
    {
     "data": {
      "text/plain": [
       "False"
      ]
     },
     "execution_count": 11,
     "metadata": {},
     "output_type": "execute_result"
    }
   ],
   "source": [
    "g3.is_complete()"
   ]
  },
  {
   "cell_type": "code",
   "execution_count": 12,
   "metadata": {},
   "outputs": [],
   "source": [
    "g3 = Graph2(4, [(0,1), (1,0), (1,2), (2,1), (2,0), (0,2), (2,3), (3,2), (3,0), (0,3), (1,3), (3,1)], is_directed=True)"
   ]
  },
  {
   "cell_type": "code",
   "execution_count": 13,
   "metadata": {},
   "outputs": [
    {
     "data": {
      "text/plain": [
       "True"
      ]
     },
     "execution_count": 13,
     "metadata": {},
     "output_type": "execute_result"
    }
   ],
   "source": [
    "g3.is_complete()"
   ]
  },
  {
   "cell_type": "code",
   "execution_count": null,
   "metadata": {},
   "outputs": [],
   "source": []
  }
 ],
 "metadata": {
  "kernelspec": {
   "display_name": "p37",
   "language": "python",
   "name": "python3"
  },
  "language_info": {
   "codemirror_mode": {
    "name": "ipython",
    "version": 3
   },
   "file_extension": ".py",
   "mimetype": "text/x-python",
   "name": "python",
   "nbconvert_exporter": "python",
   "pygments_lexer": "ipython3",
   "version": "3.7.3"
  }
 },
 "nbformat": 4,
 "nbformat_minor": 2
}
